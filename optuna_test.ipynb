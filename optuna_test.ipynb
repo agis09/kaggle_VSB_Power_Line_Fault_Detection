{
 "cells": [
  {
   "cell_type": "code",
   "execution_count": 1,
   "metadata": {},
   "outputs": [
    {
     "name": "stderr",
     "output_type": "stream",
     "text": [
      "/home/dmitri/anaconda3/envs/Tensorflow/lib/python3.5/importlib/_bootstrap.py:222: RuntimeWarning: numpy.dtype size changed, may indicate binary incompatibility. Expected 96, got 88\n",
      "  return f(*args, **kwds)\n",
      "Using TensorFlow backend.\n",
      "/home/dmitri/anaconda3/envs/Tensorflow/lib/python3.5/importlib/_bootstrap.py:222: RuntimeWarning: numpy.dtype size changed, may indicate binary incompatibility. Expected 96, got 88\n",
      "  return f(*args, **kwds)\n",
      "/home/dmitri/anaconda3/envs/Tensorflow/lib/python3.5/importlib/_bootstrap.py:222: RuntimeWarning: numpy.dtype size changed, may indicate binary incompatibility. Expected 96, got 88\n",
      "  return f(*args, **kwds)\n",
      "/home/dmitri/anaconda3/envs/Tensorflow/lib/python3.5/importlib/_bootstrap.py:222: RuntimeWarning: numpy.dtype size changed, may indicate binary incompatibility. Expected 96, got 88\n",
      "  return f(*args, **kwds)\n",
      "/home/dmitri/anaconda3/envs/Tensorflow/lib/python3.5/importlib/_bootstrap.py:222: RuntimeWarning: numpy.dtype size changed, may indicate binary incompatibility. Expected 96, got 88\n",
      "  return f(*args, **kwds)\n"
     ]
    }
   ],
   "source": [
    "import pandas as pd\n",
    "import pyarrow.parquet as pq # Used to read the data\n",
    "import os \n",
    "import numpy as np\n",
    "from keras.callbacks import Callback\n",
    "from keras.layers import * # Keras is the most friendly Neural Network library, this Kernel use a lot of layers classes\n",
    "from keras.models import Model\n",
    "from tqdm import tqdm # Processing time measurement\n",
    "from sklearn.model_selection import train_test_split \n",
    "from keras import backend as K # The backend give us access to tensorflow operations and allow us to create the Attention class\n",
    "from keras import optimizers # Allow us to access the Adam class to modify some parameters\n",
    "from sklearn.model_selection import GridSearchCV, StratifiedKFold # Used to use Kfold to train our model\n",
    "from keras.callbacks import * # This object helps the model to train in a smarter way, avoiding overfitting\n",
    "\n",
    "import optuna"
   ]
  },
  {
   "cell_type": "code",
   "execution_count": 2,
   "metadata": {},
   "outputs": [],
   "source": [
    "# select how many folds will be created\n",
    "N_SPLITS = 5\n",
    "# it is just a constant with the measurements data size\n",
    "sample_size = 800000"
   ]
  },
  {
   "cell_type": "code",
   "execution_count": 3,
   "metadata": {},
   "outputs": [],
   "source": [
    "# It is the official metric used in this competition\n",
    "# below is the declaration of a function used inside the keras model, calculation with K (keras backend / thensorflow)\n",
    "def matthews_correlation(y_true, y_pred):\n",
    "    '''Calculates the Matthews correlation coefficient measure for quality\n",
    "    of binary classification problems.\n",
    "    '''\n",
    "    y_pred_pos = K.round(K.clip(y_pred, 0, 1))\n",
    "    y_pred_neg = 1 - y_pred_pos\n",
    "\n",
    "    y_pos = K.round(K.clip(y_true, 0, 1))\n",
    "    y_neg = 1 - y_pos\n",
    "\n",
    "    tp = K.sum(y_pos * y_pred_pos)\n",
    "    tn = K.sum(y_neg * y_pred_neg)\n",
    "\n",
    "    fp = K.sum(y_neg * y_pred_pos)\n",
    "    fn = K.sum(y_pos * y_pred_neg)\n",
    "\n",
    "    numerator = (tp * tn - fp * fn)\n",
    "    denominator = K.sqrt((tp + fp) * (tp + fn) * (tn + fp) * (tn + fn))\n",
    "\n",
    "    return numerator / (denominator + K.epsilon())"
   ]
  },
  {
   "cell_type": "code",
   "execution_count": 4,
   "metadata": {},
   "outputs": [],
   "source": [
    "# https://www.kaggle.com/suicaokhoailang/lstm-attention-baseline-0-652-lb\n",
    "\n",
    "class Attention(Layer):\n",
    "    def __init__(self, step_dim,\n",
    "                 W_regularizer=None, b_regularizer=None,\n",
    "                 W_constraint=None, b_constraint=None,\n",
    "                 bias=True, **kwargs):\n",
    "        self.supports_masking = True\n",
    "        self.init = initializers.get('glorot_uniform')\n",
    "\n",
    "        self.W_regularizer = regularizers.get(W_regularizer)\n",
    "        self.b_regularizer = regularizers.get(b_regularizer)\n",
    "\n",
    "        self.W_constraint = constraints.get(W_constraint)\n",
    "        self.b_constraint = constraints.get(b_constraint)\n",
    "\n",
    "        self.bias = bias\n",
    "        self.step_dim = step_dim\n",
    "        self.features_dim = 0\n",
    "        super(Attention, self).__init__(**kwargs)\n",
    "\n",
    "    def build(self, input_shape):\n",
    "        assert len(input_shape) == 3\n",
    "\n",
    "        self.W = self.add_weight((input_shape[-1],),\n",
    "                                 initializer=self.init,\n",
    "                                 name='{}_W'.format(self.name),\n",
    "                                 regularizer=self.W_regularizer,\n",
    "                                 constraint=self.W_constraint)\n",
    "        self.features_dim = input_shape[-1]\n",
    "        \n",
    "        if self.bias:\n",
    "            self.b = self.add_weight((input_shape[1],),\n",
    "                                     initializer='zero',\n",
    "                                     name='{}_b'.format(self.name),\n",
    "                                     regularizer=self.b_regularizer,\n",
    "                                     constraint=self.b_constraint)\n",
    "        else:\n",
    "            self.b = None\n",
    "\n",
    "        self.built = True\n",
    "\n",
    "    def compute_mask(self, input, input_mask=None):\n",
    "        return None\n",
    "\n",
    "    def call(self, x, mask=None):\n",
    "        features_dim = self.features_dim\n",
    "        step_dim = self.step_dim\n",
    "\n",
    "        eij = K.reshape(K.dot(K.reshape(x, (-1, features_dim)),\n",
    "                        K.reshape(self.W, (features_dim, 1))), (-1, step_dim))\n",
    "\n",
    "        if self.bias:\n",
    "            eij += self.b\n",
    "\n",
    "        eij = K.tanh(eij)\n",
    "\n",
    "        a = K.exp(eij)\n",
    "\n",
    "        if mask is not None:\n",
    "            a *= K.cast(mask, K.floatx())\n",
    "\n",
    "        a /= K.cast(K.sum(a, axis=1, keepdims=True) + K.epsilon(), K.floatx())\n",
    "\n",
    "        a = K.expand_dims(a)\n",
    "        weighted_input = x * a\n",
    "        return K.sum(weighted_input, axis=1)\n",
    "\n",
    "    def compute_output_shape(self, input_shape):\n",
    "        return input_shape[0],  self.features_dim\n",
    "\n"
   ]
  },
  {
   "cell_type": "code",
   "execution_count": 5,
   "metadata": {},
   "outputs": [
    {
     "data": {
      "text/html": [
       "<div>\n",
       "<style scoped>\n",
       "    .dataframe tbody tr th:only-of-type {\n",
       "        vertical-align: middle;\n",
       "    }\n",
       "\n",
       "    .dataframe tbody tr th {\n",
       "        vertical-align: top;\n",
       "    }\n",
       "\n",
       "    .dataframe thead th {\n",
       "        text-align: right;\n",
       "    }\n",
       "</style>\n",
       "<table border=\"1\" class=\"dataframe\">\n",
       "  <thead>\n",
       "    <tr style=\"text-align: right;\">\n",
       "      <th></th>\n",
       "      <th></th>\n",
       "      <th>signal_id</th>\n",
       "      <th>target</th>\n",
       "    </tr>\n",
       "    <tr>\n",
       "      <th>id_measurement</th>\n",
       "      <th>phase</th>\n",
       "      <th></th>\n",
       "      <th></th>\n",
       "    </tr>\n",
       "  </thead>\n",
       "  <tbody>\n",
       "    <tr>\n",
       "      <th rowspan=\"3\" valign=\"top\">0</th>\n",
       "      <th>0</th>\n",
       "      <td>0</td>\n",
       "      <td>0</td>\n",
       "    </tr>\n",
       "    <tr>\n",
       "      <th>1</th>\n",
       "      <td>1</td>\n",
       "      <td>0</td>\n",
       "    </tr>\n",
       "    <tr>\n",
       "      <th>2</th>\n",
       "      <td>2</td>\n",
       "      <td>0</td>\n",
       "    </tr>\n",
       "    <tr>\n",
       "      <th rowspan=\"2\" valign=\"top\">1</th>\n",
       "      <th>0</th>\n",
       "      <td>3</td>\n",
       "      <td>1</td>\n",
       "    </tr>\n",
       "    <tr>\n",
       "      <th>1</th>\n",
       "      <td>4</td>\n",
       "      <td>1</td>\n",
       "    </tr>\n",
       "  </tbody>\n",
       "</table>\n",
       "</div>"
      ],
      "text/plain": [
       "                      signal_id  target\n",
       "id_measurement phase                   \n",
       "0              0              0       0\n",
       "               1              1       0\n",
       "               2              2       0\n",
       "1              0              3       1\n",
       "               1              4       1"
      ]
     },
     "execution_count": 5,
     "metadata": {},
     "output_type": "execute_result"
    }
   ],
   "source": [
    "# just load train data\n",
    "df_train = pd.read_csv('../input/metadata_train.csv')\n",
    "# set index, it makes the data access much faster\n",
    "df_train = df_train.set_index(['id_measurement', 'phase'])\n",
    "df_train.head()"
   ]
  },
  {
   "cell_type": "code",
   "execution_count": 6,
   "metadata": {},
   "outputs": [],
   "source": [
    "# in other notebook I have extracted the min and max values from the train data, the measurements\n",
    "max_num = 127\n",
    "min_num = -128"
   ]
  },
  {
   "cell_type": "code",
   "execution_count": 7,
   "metadata": {},
   "outputs": [],
   "source": [
    "# This function standardize the data from (-128 to 127) to (-1 to 1)\n",
    "# Theoretically it helps in the NN Model training, but I didn't tested without it\n",
    "def min_max_transf(ts, min_data, max_data, range_needed=(-1,1)):\n",
    "    if min_data < 0:\n",
    "        ts_std = (ts + abs(min_data)) / (max_data + abs(min_data))\n",
    "    else:\n",
    "        ts_std = (ts - min_data) / (max_data - min_data)\n",
    "    if range_needed[0] < 0:    \n",
    "        return ts_std * (range_needed[1] + abs(range_needed[0])) + range_needed[0]\n",
    "    else:\n",
    "        return ts_std * (range_needed[1] - range_needed[0]) + range_needed[0]"
   ]
  },
  {
   "cell_type": "code",
   "execution_count": 8,
   "metadata": {},
   "outputs": [],
   "source": [
    "# This is one of the most important peace of code of this Kernel\n",
    "# Any power line contain 3 phases of 800000 measurements, or 2.4 millions data \n",
    "# It would be praticaly impossible to build a NN with an input of that size\n",
    "# The ideia here is to reduce it each phase to a matrix of <n_dim> bins by n features\n",
    "# Each bean is a set of 5000 measurements (800000 / 160), so the features are extracted from this 5000 chunk data.\n",
    "def transform_ts(ts, n_dim=160, min_max=(-1,1)):\n",
    "    # convert data into -1 to 1\n",
    "    ts_std = min_max_transf(ts, min_data=min_num, max_data=max_num)\n",
    "    # bucket or chunk size, 5000 in this case (800000 / 160)\n",
    "    bucket_size = int(sample_size / n_dim)\n",
    "    # new_ts will be the container of the new data\n",
    "    new_ts = []\n",
    "    # this for iteract any chunk/bucket until reach the whole sample_size (800000)\n",
    "    for i in range(0, sample_size, bucket_size):\n",
    "        # cut each bucket to ts_range\n",
    "        ts_range = ts_std[i:i + bucket_size]\n",
    "        # calculate each feature\n",
    "        mean = ts_range.mean()\n",
    "        std = ts_range.std() # standard deviation\n",
    "        std_top = mean + std # I have to test it more, but is is like a band\n",
    "        std_bot = mean - std\n",
    "        # I think that the percentiles are very important, it is like a distribuiton analysis from eath chunk\n",
    "        percentil_calc = np.percentile(ts_range, [0, 1, 25, 50, 75, 99, 100]) \n",
    "        max_range = percentil_calc[-1] - percentil_calc[0] # this is the amplitude of the chunk\n",
    "        relative_percentile = percentil_calc - mean # maybe it could heap to understand the asymmetry\n",
    "        # now, we just add all the features to new_ts and convert it to np.array\n",
    "        new_ts.append(np.concatenate([np.asarray([mean, std, std_top, std_bot, max_range]),percentil_calc, relative_percentile]))\n",
    "    return np.asarray(new_ts)"
   ]
  },
  {
   "cell_type": "code",
   "execution_count": 9,
   "metadata": {},
   "outputs": [],
   "source": [
    "# this function take a piece of data and convert using transform_ts(), but it does to each of the 3 phases\n",
    "# if we would try to do in one time, could exceed the RAM Memmory\n",
    "def prep_data(start, end):\n",
    "    # load a piece of data from file\n",
    "    praq_train = pq.read_pandas('../input/train.parquet', columns=[str(i) for i in range(start, end)]).to_pandas()\n",
    "    X = []\n",
    "    y = []\n",
    "    # using tdqm to evaluate processing time\n",
    "    # takes each index from df_train and iteract it from start to end\n",
    "    # it is divided by 3 because for each id_measurement there are 3 id_signal, and the start/end parameters are id_signal\n",
    "    for id_measurement in tqdm(df_train.index.levels[0].unique()[int(start/3):int(end/3)]):\n",
    "        X_signal = []\n",
    "        # for each phase of the signal\n",
    "        for phase in [0,1,2]:\n",
    "            # extract from df_train both signal_id and target to compose the new data sets\n",
    "            signal_id, target = df_train.loc[id_measurement].loc[phase]\n",
    "            # but just append the target one time, to not triplicate it\n",
    "            if phase == 0:\n",
    "                y.append(target)\n",
    "            # extract and transform data into sets of features\n",
    "            X_signal.append(transform_ts(praq_train[str(signal_id)]))\n",
    "        # concatenate all the 3 phases in one matrix\n",
    "        X_signal = np.concatenate(X_signal, axis=1)\n",
    "        # add the data to X\n",
    "        X.append(X_signal)\n",
    "    X = np.asarray(X)\n",
    "    y = np.asarray(y)\n",
    "    return X, y"
   ]
  },
  {
   "cell_type": "code",
   "execution_count": 10,
   "metadata": {},
   "outputs": [
    {
     "data": {
      "text/plain": [
       "'\\nX = []\\ny = []\\ndef load_all():\\n    total_size = len(df_train)\\n    for ini, end in [(0, int(total_size/2)), (int(total_size/2), total_size)]:\\n        X_temp, y_temp = prep_data(ini, end)\\n        X.append(X_temp)\\n        y.append(y_temp)\\nload_all()\\nX = np.concatenate(X)\\ny = np.concatenate(y)\\n'"
      ]
     },
     "execution_count": 10,
     "metadata": {},
     "output_type": "execute_result"
    }
   ],
   "source": [
    "# this code is very simple, divide the total size of the df_train into two sets and process it\n",
    "\"\"\"\n",
    "X = []\n",
    "y = []\n",
    "def load_all():\n",
    "    total_size = len(df_train)\n",
    "    for ini, end in [(0, int(total_size/2)), (int(total_size/2), total_size)]:\n",
    "        X_temp, y_temp = prep_data(ini, end)\n",
    "        X.append(X_temp)\n",
    "        y.append(y_temp)\n",
    "load_all()\n",
    "X = np.concatenate(X)\n",
    "y = np.concatenate(y)\n",
    "\"\"\""
   ]
  },
  {
   "cell_type": "code",
   "execution_count": 11,
   "metadata": {},
   "outputs": [],
   "source": [
    "# The X shape here is very important. It is also important undertand a little how a LSTM works\n",
    "# X.shape[0] is the number of id_measuremts contained in train data\n",
    "# X.shape[1] is the number of chunks resultant of the transformation, each of this date enters in the LSTM serialized\n",
    "# This way the LSTM can understand the position of a data relative with other and activate a signal that needs\n",
    "# a serie of inputs in a specifc order.\n",
    "# X.shape[3] is the number of features multiplied by the number of phases (3)\n",
    "# print(X.shape, y.shape)\n",
    "# save data into file, a numpy specific format\n",
    "#np.save(\"X.npy\",X)\n",
    "#np.save(\"y.npy\",y)\n",
    "X=np.load('X.npy')\n",
    "y=np.load('y.npy')"
   ]
  },
  {
   "cell_type": "code",
   "execution_count": 12,
   "metadata": {},
   "outputs": [],
   "source": [
    "\n",
    "\n",
    "# This is NN LSTM Model creation\n",
    "def model_lstm(input_shape,num_filters,full_connect_units,drop_rate):\n",
    "    # The shape was explained above, must have this order\n",
    "    inp = Input(shape=(input_shape[1], input_shape[2],))\n",
    "    # This is the LSTM layer\n",
    "    # Bidirecional implies that the 160 chunks are calculated in both ways, 0 to 159 and 159 to zero\n",
    "    # although it appear that just 0 to 159 way matter, I have tested with and without, and tha later worked best\n",
    "    # 128 and 64 are the number of cells used, too many can overfit and too few can underfit\n",
    "    x = Bidirectional(CuDNNLSTM(num_filters[0], return_sequences=True))(inp)\n",
    "    # The second LSTM can give more fire power to the model, but can overfit it too\n",
    "    x = Bidirectional(CuDNNLSTM(num_filters[1], return_sequences=True))(x)\n",
    "    x = Bidirectional(CuDNNLSTM(num_filters[2], return_sequences=True))(x)\n",
    "    # Attention is a new tecnology that can be applyed to a Recurrent NN to give more meanings to a signal found in the middle\n",
    "    # of the data, it helps more in longs chains of data. A normal RNN give all the responsibility of detect the signal\n",
    "    # to the last cell. Google RNN Attention for more information :)\n",
    "    x = Attention(input_shape[1])(x)\n",
    "    # A intermediate full connected (Dense) can help to deal with nonlinears outputs\n",
    "    x = Dropout(drop_rate)(x)\n",
    "    x = Dense(full_connect_units, activation=\"relu\")(x)\n",
    "    # A binnary classification as this must finish with shape (1,)\n",
    "    x = Dense(1, activation=\"sigmoid\")(x)\n",
    "    model = Model(inputs=inp, outputs=x)\n",
    "    \n",
    "    return model"
   ]
  },
  {
   "cell_type": "code",
   "execution_count": 13,
   "metadata": {
    "scrolled": true
   },
   "outputs": [
    {
     "name": "stdout",
     "output_type": "stream",
     "text": [
      "Beginning fold 1\n",
      "Beginning fold 2\n",
      "Beginning fold 3\n",
      "Beginning fold 4\n",
      "Beginning fold 5\n"
     ]
    },
    {
     "name": "stderr",
     "output_type": "stream",
     "text": [
      "[I 2019-03-21 02:22:23,177] Finished a trial resulted in value: 2.023164939861302. Current best value is 2.023164939861302 with parameters: {'num_filter_1': 96.0, 'full_connect_units_': 464.0, 'num_filter_0': 192.0, 'learning_rate': 0.018492671723233878, 'droprate_': 0.041084659699287235, 'num_filter_2': 48.0, 'optimizer': 'adam'}.\n"
     ]
    },
    {
     "name": "stdout",
     "output_type": "stream",
     "text": [
      "Beginning fold 1\n",
      "Beginning fold 2\n",
      "Beginning fold 3\n",
      "Beginning fold 4\n",
      "Beginning fold 5\n"
     ]
    },
    {
     "name": "stderr",
     "output_type": "stream",
     "text": [
      "[I 2019-03-21 02:30:39,276] Finished a trial resulted in value: 1.9017028243557732. Current best value is 1.9017028243557732 with parameters: {'num_filter_1': 80.0, 'full_connect_units_': 256.0, 'num_filter_0': 256.0, 'learning_rate': 0.001180420266147884, 'droprate_': 0.49809273568279633, 'num_filter_2': 288.0, 'optimizer': 'adam'}.\n"
     ]
    },
    {
     "name": "stdout",
     "output_type": "stream",
     "text": [
      "Beginning fold 1\n",
      "Beginning fold 2\n",
      "Beginning fold 3\n",
      "Beginning fold 4\n",
      "Beginning fold 5\n"
     ]
    },
    {
     "name": "stderr",
     "output_type": "stream",
     "text": [
      "[I 2019-03-21 02:42:27,137] Finished a trial resulted in value: 4.005208897155161. Current best value is 1.9017028243557732 with parameters: {'num_filter_1': 80.0, 'full_connect_units_': 256.0, 'num_filter_0': 256.0, 'learning_rate': 0.001180420266147884, 'droprate_': 0.49809273568279633, 'num_filter_2': 288.0, 'optimizer': 'adam'}.\n"
     ]
    },
    {
     "name": "stdout",
     "output_type": "stream",
     "text": [
      "Beginning fold 1\n",
      "Beginning fold 2\n",
      "Beginning fold 3\n",
      "Beginning fold 4\n",
      "Beginning fold 5\n"
     ]
    },
    {
     "name": "stderr",
     "output_type": "stream",
     "text": [
      "[I 2019-03-21 02:48:38,646] Finished a trial resulted in value: 5.0. Current best value is 1.9017028243557732 with parameters: {'num_filter_1': 80.0, 'full_connect_units_': 256.0, 'num_filter_0': 256.0, 'learning_rate': 0.001180420266147884, 'droprate_': 0.49809273568279633, 'num_filter_2': 288.0, 'optimizer': 'adam'}.\n"
     ]
    },
    {
     "name": "stdout",
     "output_type": "stream",
     "text": [
      "Beginning fold 1\n",
      "Beginning fold 2\n",
      "Beginning fold 3\n",
      "Beginning fold 4\n",
      "Beginning fold 5\n"
     ]
    },
    {
     "name": "stderr",
     "output_type": "stream",
     "text": [
      "[I 2019-03-21 02:59:54,415] Finished a trial resulted in value: 1.8676765951491334. Current best value is 1.8676765951491334 with parameters: {'num_filter_1': 128.0, 'full_connect_units_': 112.0, 'num_filter_0': 336.0, 'learning_rate': 0.037165779572689135, 'droprate_': 0.5634559843913957, 'num_filter_2': 400.0, 'optimizer': 'adam'}.\n"
     ]
    },
    {
     "name": "stdout",
     "output_type": "stream",
     "text": [
      "Beginning fold 1\n",
      "Beginning fold 2\n",
      "Beginning fold 3\n",
      "Beginning fold 4\n",
      "Beginning fold 5\n"
     ]
    },
    {
     "name": "stderr",
     "output_type": "stream",
     "text": [
      "[I 2019-03-21 03:11:16,652] Finished a trial resulted in value: 1.9511231030929552. Current best value is 1.8676765951491334 with parameters: {'num_filter_1': 128.0, 'full_connect_units_': 112.0, 'num_filter_0': 336.0, 'learning_rate': 0.037165779572689135, 'droprate_': 0.5634559843913957, 'num_filter_2': 400.0, 'optimizer': 'adam'}.\n"
     ]
    },
    {
     "name": "stdout",
     "output_type": "stream",
     "text": [
      "Beginning fold 1\n",
      "Beginning fold 2\n",
      "Beginning fold 3\n",
      "Beginning fold 4\n",
      "Beginning fold 5\n"
     ]
    },
    {
     "name": "stderr",
     "output_type": "stream",
     "text": [
      "[I 2019-03-21 03:21:27,186] Finished a trial resulted in value: 1.9397479421403654. Current best value is 1.8676765951491334 with parameters: {'num_filter_1': 128.0, 'full_connect_units_': 112.0, 'num_filter_0': 336.0, 'learning_rate': 0.037165779572689135, 'droprate_': 0.5634559843913957, 'num_filter_2': 400.0, 'optimizer': 'adam'}.\n"
     ]
    },
    {
     "name": "stdout",
     "output_type": "stream",
     "text": [
      "Beginning fold 1\n",
      "Beginning fold 2\n",
      "Beginning fold 3\n",
      "Beginning fold 4\n",
      "Beginning fold 5\n"
     ]
    },
    {
     "name": "stderr",
     "output_type": "stream",
     "text": [
      "[I 2019-03-21 03:28:13,089] Finished a trial resulted in value: 3.4864649664264897. Current best value is 1.8676765951491334 with parameters: {'num_filter_1': 128.0, 'full_connect_units_': 112.0, 'num_filter_0': 336.0, 'learning_rate': 0.037165779572689135, 'droprate_': 0.5634559843913957, 'num_filter_2': 400.0, 'optimizer': 'adam'}.\n"
     ]
    },
    {
     "name": "stdout",
     "output_type": "stream",
     "text": [
      "Beginning fold 1\n",
      "Beginning fold 2\n",
      "Beginning fold 3\n",
      "Beginning fold 4\n",
      "Beginning fold 5\n"
     ]
    },
    {
     "name": "stderr",
     "output_type": "stream",
     "text": [
      "[I 2019-03-21 03:36:13,947] Finished a trial resulted in value: 3.267708434678181. Current best value is 1.8676765951491334 with parameters: {'num_filter_1': 128.0, 'full_connect_units_': 112.0, 'num_filter_0': 336.0, 'learning_rate': 0.037165779572689135, 'droprate_': 0.5634559843913957, 'num_filter_2': 400.0, 'optimizer': 'adam'}.\n"
     ]
    },
    {
     "name": "stdout",
     "output_type": "stream",
     "text": [
      "Beginning fold 1\n",
      "Beginning fold 2\n",
      "Beginning fold 3\n",
      "Beginning fold 4\n",
      "Beginning fold 5\n"
     ]
    },
    {
     "name": "stderr",
     "output_type": "stream",
     "text": [
      "[I 2019-03-21 03:45:45,274] Finished a trial resulted in value: 2.3903752748407308. Current best value is 1.8676765951491334 with parameters: {'num_filter_1': 128.0, 'full_connect_units_': 112.0, 'num_filter_0': 336.0, 'learning_rate': 0.037165779572689135, 'droprate_': 0.5634559843913957, 'num_filter_2': 400.0, 'optimizer': 'adam'}.\n"
     ]
    },
    {
     "name": "stdout",
     "output_type": "stream",
     "text": [
      "Beginning fold 1\n",
      "Beginning fold 2\n",
      "Beginning fold 3\n",
      "Beginning fold 4\n",
      "Beginning fold 5\n"
     ]
    },
    {
     "name": "stderr",
     "output_type": "stream",
     "text": [
      "[I 2019-03-21 04:00:56,280] Finished a trial resulted in value: 2.2198204311748224. Current best value is 1.8676765951491334 with parameters: {'num_filter_1': 128.0, 'full_connect_units_': 112.0, 'num_filter_0': 336.0, 'learning_rate': 0.037165779572689135, 'droprate_': 0.5634559843913957, 'num_filter_2': 400.0, 'optimizer': 'adam'}.\n"
     ]
    },
    {
     "name": "stdout",
     "output_type": "stream",
     "text": [
      "Beginning fold 1\n",
      "Beginning fold 2\n",
      "Beginning fold 3\n",
      "Beginning fold 4\n",
      "Beginning fold 5\n"
     ]
    },
    {
     "name": "stderr",
     "output_type": "stream",
     "text": [
      "[I 2019-03-21 04:16:25,463] Finished a trial resulted in value: 2.697651172595083. Current best value is 1.8676765951491334 with parameters: {'num_filter_1': 128.0, 'full_connect_units_': 112.0, 'num_filter_0': 336.0, 'learning_rate': 0.037165779572689135, 'droprate_': 0.5634559843913957, 'num_filter_2': 400.0, 'optimizer': 'adam'}.\n"
     ]
    },
    {
     "name": "stdout",
     "output_type": "stream",
     "text": [
      "Beginning fold 1\n",
      "Beginning fold 2\n",
      "Beginning fold 3\n",
      "Beginning fold 4\n",
      "Beginning fold 5\n"
     ]
    },
    {
     "name": "stderr",
     "output_type": "stream",
     "text": [
      "[I 2019-03-21 04:33:48,809] Finished a trial resulted in value: 2.807149242096881. Current best value is 1.8676765951491334 with parameters: {'num_filter_1': 128.0, 'full_connect_units_': 112.0, 'num_filter_0': 336.0, 'learning_rate': 0.037165779572689135, 'droprate_': 0.5634559843913957, 'num_filter_2': 400.0, 'optimizer': 'adam'}.\n"
     ]
    },
    {
     "name": "stdout",
     "output_type": "stream",
     "text": [
      "Beginning fold 1\n",
      "Beginning fold 2\n",
      "Beginning fold 3\n",
      "Beginning fold 4\n",
      "Beginning fold 5\n"
     ]
    },
    {
     "name": "stderr",
     "output_type": "stream",
     "text": [
      "[I 2019-03-21 04:43:15,346] Finished a trial resulted in value: 1.9070422149846835. Current best value is 1.8676765951491334 with parameters: {'num_filter_1': 128.0, 'full_connect_units_': 112.0, 'num_filter_0': 336.0, 'learning_rate': 0.037165779572689135, 'droprate_': 0.5634559843913957, 'num_filter_2': 400.0, 'optimizer': 'adam'}.\n"
     ]
    },
    {
     "name": "stdout",
     "output_type": "stream",
     "text": [
      "Beginning fold 1\n",
      "Beginning fold 2\n",
      "Beginning fold 3\n",
      "Beginning fold 4\n",
      "Beginning fold 5\n"
     ]
    },
    {
     "name": "stderr",
     "output_type": "stream",
     "text": [
      "[I 2019-03-21 04:55:57,611] Finished a trial resulted in value: 1.8384593086601277. Current best value is 1.8384593086601277 with parameters: {'num_filter_1': 304.0, 'full_connect_units_': 512.0, 'num_filter_0': 16.0, 'learning_rate': 0.00022630135832119448, 'droprate_': 0.32477126487651914, 'num_filter_2': 480.0, 'optimizer': 'adam'}.\n"
     ]
    },
    {
     "name": "stdout",
     "output_type": "stream",
     "text": [
      "Beginning fold 1\n",
      "Beginning fold 2\n",
      "Beginning fold 3\n",
      "Beginning fold 4\n",
      "Beginning fold 5\n"
     ]
    },
    {
     "name": "stderr",
     "output_type": "stream",
     "text": [
      "[I 2019-03-21 05:08:53,461] Finished a trial resulted in value: 1.9168610002324258. Current best value is 1.8384593086601277 with parameters: {'num_filter_1': 304.0, 'full_connect_units_': 512.0, 'num_filter_0': 16.0, 'learning_rate': 0.00022630135832119448, 'droprate_': 0.32477126487651914, 'num_filter_2': 480.0, 'optimizer': 'adam'}.\n"
     ]
    },
    {
     "name": "stdout",
     "output_type": "stream",
     "text": [
      "Beginning fold 1\n"
     ]
    },
    {
     "name": "stderr",
     "output_type": "stream",
     "text": [
      "[I 2019-03-21 05:09:03,461] Setting trial status as TrialState.PRUNED. \n"
     ]
    },
    {
     "name": "stdout",
     "output_type": "stream",
     "text": [
      "Beginning fold 1\n",
      "Beginning fold 2\n",
      "Beginning fold 3\n",
      "Beginning fold 4\n",
      "Beginning fold 5\n"
     ]
    },
    {
     "name": "stderr",
     "output_type": "stream",
     "text": [
      "[I 2019-03-21 05:23:55,382] Finished a trial resulted in value: 2.042897527296816. Current best value is 1.8384593086601277 with parameters: {'num_filter_1': 304.0, 'full_connect_units_': 512.0, 'num_filter_0': 16.0, 'learning_rate': 0.00022630135832119448, 'droprate_': 0.32477126487651914, 'num_filter_2': 480.0, 'optimizer': 'adam'}.\n"
     ]
    },
    {
     "name": "stdout",
     "output_type": "stream",
     "text": [
      "Beginning fold 1\n"
     ]
    },
    {
     "name": "stderr",
     "output_type": "stream",
     "text": [
      "[I 2019-03-21 05:24:04,789] Setting trial status as TrialState.PRUNED. \n"
     ]
    },
    {
     "name": "stdout",
     "output_type": "stream",
     "text": [
      "Beginning fold 1\n",
      "Beginning fold 2\n",
      "Beginning fold 3\n",
      "Beginning fold 4\n",
      "Beginning fold 5\n"
     ]
    },
    {
     "name": "stderr",
     "output_type": "stream",
     "text": [
      "[I 2019-03-21 05:37:43,154] Finished a trial resulted in value: 1.9261116898362165. Current best value is 1.8384593086601277 with parameters: {'num_filter_1': 304.0, 'full_connect_units_': 512.0, 'num_filter_0': 16.0, 'learning_rate': 0.00022630135832119448, 'droprate_': 0.32477126487651914, 'num_filter_2': 480.0, 'optimizer': 'adam'}.\n"
     ]
    },
    {
     "name": "stdout",
     "output_type": "stream",
     "text": [
      "Beginning fold 1\n",
      "Beginning fold 2\n",
      "Beginning fold 3\n",
      "Beginning fold 4\n",
      "Beginning fold 5\n"
     ]
    },
    {
     "name": "stderr",
     "output_type": "stream",
     "text": [
      "[I 2019-03-21 05:51:15,607] Finished a trial resulted in value: 2.0077884986374173. Current best value is 1.8384593086601277 with parameters: {'num_filter_1': 304.0, 'full_connect_units_': 512.0, 'num_filter_0': 16.0, 'learning_rate': 0.00022630135832119448, 'droprate_': 0.32477126487651914, 'num_filter_2': 480.0, 'optimizer': 'adam'}.\n"
     ]
    },
    {
     "name": "stdout",
     "output_type": "stream",
     "text": [
      "Beginning fold 1\n",
      "Beginning fold 2\n",
      "Beginning fold 3\n",
      "Beginning fold 4\n",
      "Beginning fold 5\n"
     ]
    },
    {
     "name": "stderr",
     "output_type": "stream",
     "text": [
      "[I 2019-03-21 06:03:18,788] Finished a trial resulted in value: 2.251538850951211. Current best value is 1.8384593086601277 with parameters: {'num_filter_1': 304.0, 'full_connect_units_': 512.0, 'num_filter_0': 16.0, 'learning_rate': 0.00022630135832119448, 'droprate_': 0.32477126487651914, 'num_filter_2': 480.0, 'optimizer': 'adam'}.\n"
     ]
    },
    {
     "name": "stdout",
     "output_type": "stream",
     "text": [
      "Beginning fold 1\n",
      "Beginning fold 2\n",
      "Beginning fold 3\n",
      "Beginning fold 4\n",
      "Beginning fold 5\n"
     ]
    },
    {
     "name": "stderr",
     "output_type": "stream",
     "text": [
      "[I 2019-03-21 06:14:58,150] Finished a trial resulted in value: 1.8567276894360454. Current best value is 1.8384593086601277 with parameters: {'num_filter_1': 304.0, 'full_connect_units_': 512.0, 'num_filter_0': 16.0, 'learning_rate': 0.00022630135832119448, 'droprate_': 0.32477126487651914, 'num_filter_2': 480.0, 'optimizer': 'adam'}.\n"
     ]
    },
    {
     "name": "stdout",
     "output_type": "stream",
     "text": [
      "Beginning fold 1\n",
      "Beginning fold 2\n",
      "Beginning fold 3\n",
      "Beginning fold 4\n",
      "Beginning fold 5\n"
     ]
    },
    {
     "name": "stderr",
     "output_type": "stream",
     "text": [
      "[I 2019-03-21 06:26:16,670] Finished a trial resulted in value: 1.8920012819716099. Current best value is 1.8384593086601277 with parameters: {'num_filter_1': 304.0, 'full_connect_units_': 512.0, 'num_filter_0': 16.0, 'learning_rate': 0.00022630135832119448, 'droprate_': 0.32477126487651914, 'num_filter_2': 480.0, 'optimizer': 'adam'}.\n"
     ]
    },
    {
     "name": "stdout",
     "output_type": "stream",
     "text": [
      "Beginning fold 1\n"
     ]
    },
    {
     "name": "stderr",
     "output_type": "stream",
     "text": [
      "[I 2019-03-21 06:26:26,765] Setting trial status as TrialState.PRUNED. \n"
     ]
    },
    {
     "name": "stdout",
     "output_type": "stream",
     "text": [
      "Beginning fold 1\n",
      "Beginning fold 2\n",
      "Beginning fold 3\n",
      "Beginning fold 4\n",
      "Beginning fold 5\n"
     ]
    },
    {
     "name": "stderr",
     "output_type": "stream",
     "text": [
      "[I 2019-03-21 06:40:53,174] Finished a trial resulted in value: 1.9664299471352877. Current best value is 1.8384593086601277 with parameters: {'num_filter_1': 304.0, 'full_connect_units_': 512.0, 'num_filter_0': 16.0, 'learning_rate': 0.00022630135832119448, 'droprate_': 0.32477126487651914, 'num_filter_2': 480.0, 'optimizer': 'adam'}.\n"
     ]
    },
    {
     "name": "stdout",
     "output_type": "stream",
     "text": [
      "Beginning fold 1\n"
     ]
    },
    {
     "name": "stderr",
     "output_type": "stream",
     "text": [
      "[I 2019-03-21 06:41:01,226] Setting trial status as TrialState.PRUNED. \n"
     ]
    },
    {
     "name": "stdout",
     "output_type": "stream",
     "text": [
      "Beginning fold 1\n",
      "Beginning fold 2\n",
      "Beginning fold 3\n",
      "Beginning fold 4\n",
      "Beginning fold 5\n"
     ]
    },
    {
     "name": "stderr",
     "output_type": "stream",
     "text": [
      "[I 2019-03-21 06:52:34,766] Finished a trial resulted in value: 1.9745049996660935. Current best value is 1.8384593086601277 with parameters: {'num_filter_1': 304.0, 'full_connect_units_': 512.0, 'num_filter_0': 16.0, 'learning_rate': 0.00022630135832119448, 'droprate_': 0.32477126487651914, 'num_filter_2': 480.0, 'optimizer': 'adam'}.\n"
     ]
    },
    {
     "name": "stdout",
     "output_type": "stream",
     "text": [
      "Beginning fold 1\n",
      "Beginning fold 2\n",
      "Beginning fold 3\n",
      "Beginning fold 4\n",
      "Beginning fold 5\n"
     ]
    },
    {
     "name": "stderr",
     "output_type": "stream",
     "text": [
      "[I 2019-03-21 07:04:42,045] Finished a trial resulted in value: 2.0018829203278563. Current best value is 1.8384593086601277 with parameters: {'num_filter_1': 304.0, 'full_connect_units_': 512.0, 'num_filter_0': 16.0, 'learning_rate': 0.00022630135832119448, 'droprate_': 0.32477126487651914, 'num_filter_2': 480.0, 'optimizer': 'adam'}.\n"
     ]
    },
    {
     "name": "stdout",
     "output_type": "stream",
     "text": [
      "Beginning fold 1\n",
      "Beginning fold 2\n",
      "Beginning fold 3\n",
      "Beginning fold 4\n",
      "Beginning fold 5\n"
     ]
    },
    {
     "name": "stderr",
     "output_type": "stream",
     "text": [
      "[I 2019-03-21 07:16:15,270] Finished a trial resulted in value: 1.8568423560240157. Current best value is 1.8384593086601277 with parameters: {'num_filter_1': 304.0, 'full_connect_units_': 512.0, 'num_filter_0': 16.0, 'learning_rate': 0.00022630135832119448, 'droprate_': 0.32477126487651914, 'num_filter_2': 480.0, 'optimizer': 'adam'}.\n"
     ]
    },
    {
     "name": "stdout",
     "output_type": "stream",
     "text": [
      "Beginning fold 1\n"
     ]
    },
    {
     "name": "stderr",
     "output_type": "stream",
     "text": [
      "[I 2019-03-21 07:16:22,669] Setting trial status as TrialState.PRUNED. \n"
     ]
    },
    {
     "name": "stdout",
     "output_type": "stream",
     "text": [
      "Beginning fold 1\n",
      "Beginning fold 2\n",
      "Beginning fold 3\n",
      "Beginning fold 4\n",
      "Beginning fold 5\n"
     ]
    },
    {
     "name": "stderr",
     "output_type": "stream",
     "text": [
      "[I 2019-03-21 07:22:53,170] Finished a trial resulted in value: 2.021483474906206. Current best value is 1.8384593086601277 with parameters: {'num_filter_1': 304.0, 'full_connect_units_': 512.0, 'num_filter_0': 16.0, 'learning_rate': 0.00022630135832119448, 'droprate_': 0.32477126487651914, 'num_filter_2': 480.0, 'optimizer': 'adam'}.\n"
     ]
    },
    {
     "name": "stdout",
     "output_type": "stream",
     "text": [
      "Beginning fold 1\n",
      "Beginning fold 2\n",
      "Beginning fold 3\n",
      "Beginning fold 4\n",
      "Beginning fold 5\n"
     ]
    },
    {
     "name": "stderr",
     "output_type": "stream",
     "text": [
      "[I 2019-03-21 07:36:55,436] Finished a trial resulted in value: 1.8747475016766257. Current best value is 1.8384593086601277 with parameters: {'num_filter_1': 304.0, 'full_connect_units_': 512.0, 'num_filter_0': 16.0, 'learning_rate': 0.00022630135832119448, 'droprate_': 0.32477126487651914, 'num_filter_2': 480.0, 'optimizer': 'adam'}.\n"
     ]
    },
    {
     "name": "stdout",
     "output_type": "stream",
     "text": [
      "Beginning fold 1\n",
      "Beginning fold 2\n",
      "Beginning fold 3\n",
      "Beginning fold 4\n",
      "Beginning fold 5\n"
     ]
    },
    {
     "name": "stderr",
     "output_type": "stream",
     "text": [
      "[I 2019-03-21 07:51:55,325] Finished a trial resulted in value: 1.9785323220646691. Current best value is 1.8384593086601277 with parameters: {'num_filter_1': 304.0, 'full_connect_units_': 512.0, 'num_filter_0': 16.0, 'learning_rate': 0.00022630135832119448, 'droprate_': 0.32477126487651914, 'num_filter_2': 480.0, 'optimizer': 'adam'}.\n"
     ]
    },
    {
     "name": "stdout",
     "output_type": "stream",
     "text": [
      "Beginning fold 1\n",
      "Beginning fold 2\n",
      "Beginning fold 3\n",
      "Beginning fold 4\n",
      "Beginning fold 5\n"
     ]
    },
    {
     "name": "stderr",
     "output_type": "stream",
     "text": [
      "[I 2019-03-21 08:00:47,355] Finished a trial resulted in value: 1.84152357425436. Current best value is 1.8384593086601277 with parameters: {'num_filter_1': 304.0, 'full_connect_units_': 512.0, 'num_filter_0': 16.0, 'learning_rate': 0.00022630135832119448, 'droprate_': 0.32477126487651914, 'num_filter_2': 480.0, 'optimizer': 'adam'}.\n"
     ]
    },
    {
     "name": "stdout",
     "output_type": "stream",
     "text": [
      "Beginning fold 1\n",
      "Beginning fold 2\n",
      "Beginning fold 3\n",
      "Beginning fold 4\n",
      "Beginning fold 5\n"
     ]
    },
    {
     "name": "stderr",
     "output_type": "stream",
     "text": [
      "[I 2019-03-21 08:09:28,032] Finished a trial resulted in value: 1.9084541024085893. Current best value is 1.8384593086601277 with parameters: {'num_filter_1': 304.0, 'full_connect_units_': 512.0, 'num_filter_0': 16.0, 'learning_rate': 0.00022630135832119448, 'droprate_': 0.32477126487651914, 'num_filter_2': 480.0, 'optimizer': 'adam'}.\n"
     ]
    },
    {
     "name": "stdout",
     "output_type": "stream",
     "text": [
      "Beginning fold 1\n"
     ]
    },
    {
     "name": "stderr",
     "output_type": "stream",
     "text": [
      "[I 2019-03-21 08:09:35,598] Setting trial status as TrialState.PRUNED. \n"
     ]
    },
    {
     "name": "stdout",
     "output_type": "stream",
     "text": [
      "Beginning fold 1\n",
      "Beginning fold 2\n",
      "Beginning fold 3\n",
      "Beginning fold 4\n",
      "Beginning fold 5\n"
     ]
    },
    {
     "name": "stderr",
     "output_type": "stream",
     "text": [
      "[I 2019-03-21 08:18:50,514] Finished a trial resulted in value: 2.0290287616899603. Current best value is 1.8384593086601277 with parameters: {'num_filter_1': 304.0, 'full_connect_units_': 512.0, 'num_filter_0': 16.0, 'learning_rate': 0.00022630135832119448, 'droprate_': 0.32477126487651914, 'num_filter_2': 480.0, 'optimizer': 'adam'}.\n"
     ]
    },
    {
     "name": "stdout",
     "output_type": "stream",
     "text": [
      "Beginning fold 1\n",
      "Beginning fold 2\n",
      "Beginning fold 3\n",
      "Beginning fold 4\n",
      "Beginning fold 5\n"
     ]
    },
    {
     "name": "stderr",
     "output_type": "stream",
     "text": [
      "[I 2019-03-21 08:29:30,871] Finished a trial resulted in value: 2.905750897960151. Current best value is 1.8384593086601277 with parameters: {'num_filter_1': 304.0, 'full_connect_units_': 512.0, 'num_filter_0': 16.0, 'learning_rate': 0.00022630135832119448, 'droprate_': 0.32477126487651914, 'num_filter_2': 480.0, 'optimizer': 'adam'}.\n"
     ]
    },
    {
     "name": "stdout",
     "output_type": "stream",
     "text": [
      "Beginning fold 1\n",
      "Beginning fold 2\n",
      "Beginning fold 3\n",
      "Beginning fold 4\n",
      "Beginning fold 5\n"
     ]
    },
    {
     "name": "stderr",
     "output_type": "stream",
     "text": [
      "[I 2019-03-21 08:37:02,171] Finished a trial resulted in value: 1.976222752811161. Current best value is 1.8384593086601277 with parameters: {'num_filter_1': 304.0, 'full_connect_units_': 512.0, 'num_filter_0': 16.0, 'learning_rate': 0.00022630135832119448, 'droprate_': 0.32477126487651914, 'num_filter_2': 480.0, 'optimizer': 'adam'}.\n"
     ]
    },
    {
     "name": "stdout",
     "output_type": "stream",
     "text": [
      "Beginning fold 1\n",
      "Beginning fold 2\n",
      "Beginning fold 3\n",
      "Beginning fold 4\n",
      "Beginning fold 5\n"
     ]
    },
    {
     "name": "stderr",
     "output_type": "stream",
     "text": [
      "[I 2019-03-21 08:49:34,241] Finished a trial resulted in value: 1.8888342449530526. Current best value is 1.8384593086601277 with parameters: {'num_filter_1': 304.0, 'full_connect_units_': 512.0, 'num_filter_0': 16.0, 'learning_rate': 0.00022630135832119448, 'droprate_': 0.32477126487651914, 'num_filter_2': 480.0, 'optimizer': 'adam'}.\n"
     ]
    },
    {
     "name": "stdout",
     "output_type": "stream",
     "text": [
      "Beginning fold 1\n",
      "Beginning fold 2\n",
      "Beginning fold 3\n",
      "Beginning fold 4\n",
      "Beginning fold 5\n"
     ]
    },
    {
     "name": "stderr",
     "output_type": "stream",
     "text": [
      "[I 2019-03-21 08:57:10,654] Finished a trial resulted in value: 1.9725975821132495. Current best value is 1.8384593086601277 with parameters: {'num_filter_1': 304.0, 'full_connect_units_': 512.0, 'num_filter_0': 16.0, 'learning_rate': 0.00022630135832119448, 'droprate_': 0.32477126487651914, 'num_filter_2': 480.0, 'optimizer': 'adam'}.\n"
     ]
    },
    {
     "name": "stdout",
     "output_type": "stream",
     "text": [
      "Beginning fold 1\n",
      "Beginning fold 2\n",
      "Beginning fold 3\n",
      "Beginning fold 4\n",
      "Beginning fold 5\n"
     ]
    },
    {
     "name": "stderr",
     "output_type": "stream",
     "text": [
      "[I 2019-03-21 09:12:49,175] Finished a trial resulted in value: 2.4663465390212247. Current best value is 1.8384593086601277 with parameters: {'num_filter_1': 304.0, 'full_connect_units_': 512.0, 'num_filter_0': 16.0, 'learning_rate': 0.00022630135832119448, 'droprate_': 0.32477126487651914, 'num_filter_2': 480.0, 'optimizer': 'adam'}.\n"
     ]
    },
    {
     "name": "stdout",
     "output_type": "stream",
     "text": [
      "Beginning fold 1\n",
      "Beginning fold 2\n",
      "Beginning fold 3\n",
      "Beginning fold 4\n",
      "Beginning fold 5\n"
     ]
    },
    {
     "name": "stderr",
     "output_type": "stream",
     "text": [
      "[I 2019-03-21 09:27:43,197] Finished a trial resulted in value: 1.9700677515276626. Current best value is 1.8384593086601277 with parameters: {'num_filter_1': 304.0, 'full_connect_units_': 512.0, 'num_filter_0': 16.0, 'learning_rate': 0.00022630135832119448, 'droprate_': 0.32477126487651914, 'num_filter_2': 480.0, 'optimizer': 'adam'}.\n"
     ]
    },
    {
     "name": "stdout",
     "output_type": "stream",
     "text": [
      "Beginning fold 1\n"
     ]
    },
    {
     "name": "stderr",
     "output_type": "stream",
     "text": [
      "[I 2019-03-21 09:27:51,093] Setting trial status as TrialState.PRUNED. \n"
     ]
    },
    {
     "name": "stdout",
     "output_type": "stream",
     "text": [
      "Beginning fold 1\n",
      "Beginning fold 2\n",
      "Beginning fold 3\n",
      "Beginning fold 4\n",
      "Beginning fold 5\n"
     ]
    },
    {
     "name": "stderr",
     "output_type": "stream",
     "text": [
      "[I 2019-03-21 09:37:54,826] Finished a trial resulted in value: 4.495066656918616. Current best value is 1.8384593086601277 with parameters: {'num_filter_1': 304.0, 'full_connect_units_': 512.0, 'num_filter_0': 16.0, 'learning_rate': 0.00022630135832119448, 'droprate_': 0.32477126487651914, 'num_filter_2': 480.0, 'optimizer': 'adam'}.\n"
     ]
    },
    {
     "name": "stdout",
     "output_type": "stream",
     "text": [
      "Beginning fold 1\n",
      "Beginning fold 2\n",
      "Beginning fold 3\n",
      "Beginning fold 4\n",
      "Beginning fold 5\n"
     ]
    },
    {
     "name": "stderr",
     "output_type": "stream",
     "text": [
      "[I 2019-03-21 09:50:51,060] Finished a trial resulted in value: 2.145536512937813. Current best value is 1.8384593086601277 with parameters: {'num_filter_1': 304.0, 'full_connect_units_': 512.0, 'num_filter_0': 16.0, 'learning_rate': 0.00022630135832119448, 'droprate_': 0.32477126487651914, 'num_filter_2': 480.0, 'optimizer': 'adam'}.\n"
     ]
    },
    {
     "name": "stdout",
     "output_type": "stream",
     "text": [
      "Beginning fold 1\n",
      "Beginning fold 2\n",
      "Beginning fold 3\n",
      "Beginning fold 4\n",
      "Beginning fold 5\n"
     ]
    },
    {
     "name": "stderr",
     "output_type": "stream",
     "text": [
      "[I 2019-03-21 10:02:39,281] Finished a trial resulted in value: 1.9445138953432244. Current best value is 1.8384593086601277 with parameters: {'num_filter_1': 304.0, 'full_connect_units_': 512.0, 'num_filter_0': 16.0, 'learning_rate': 0.00022630135832119448, 'droprate_': 0.32477126487651914, 'num_filter_2': 480.0, 'optimizer': 'adam'}.\n"
     ]
    },
    {
     "name": "stdout",
     "output_type": "stream",
     "text": [
      "Beginning fold 1\n",
      "Beginning fold 2\n",
      "Beginning fold 3\n",
      "Beginning fold 4\n",
      "Beginning fold 5\n"
     ]
    },
    {
     "name": "stderr",
     "output_type": "stream",
     "text": [
      "[I 2019-03-21 10:12:29,986] Finished a trial resulted in value: 2.293951280283048. Current best value is 1.8384593086601277 with parameters: {'num_filter_1': 304.0, 'full_connect_units_': 512.0, 'num_filter_0': 16.0, 'learning_rate': 0.00022630135832119448, 'droprate_': 0.32477126487651914, 'num_filter_2': 480.0, 'optimizer': 'adam'}.\n"
     ]
    },
    {
     "name": "stdout",
     "output_type": "stream",
     "text": [
      "Beginning fold 1\n",
      "Beginning fold 2\n",
      "Beginning fold 3\n",
      "Beginning fold 4\n",
      "Beginning fold 5\n"
     ]
    },
    {
     "name": "stderr",
     "output_type": "stream",
     "text": [
      "[I 2019-03-21 10:19:25,104] Finished a trial resulted in value: 1.8485563507245002. Current best value is 1.8384593086601277 with parameters: {'num_filter_1': 304.0, 'full_connect_units_': 512.0, 'num_filter_0': 16.0, 'learning_rate': 0.00022630135832119448, 'droprate_': 0.32477126487651914, 'num_filter_2': 480.0, 'optimizer': 'adam'}.\n"
     ]
    },
    {
     "name": "stdout",
     "output_type": "stream",
     "text": [
      "Beginning fold 1\n",
      "Beginning fold 2\n",
      "Beginning fold 3\n",
      "Beginning fold 4\n",
      "Beginning fold 5\n"
     ]
    },
    {
     "name": "stderr",
     "output_type": "stream",
     "text": [
      "[I 2019-03-21 10:32:07,080] Finished a trial resulted in value: 1.9745589144165798. Current best value is 1.8384593086601277 with parameters: {'num_filter_1': 304.0, 'full_connect_units_': 512.0, 'num_filter_0': 16.0, 'learning_rate': 0.00022630135832119448, 'droprate_': 0.32477126487651914, 'num_filter_2': 480.0, 'optimizer': 'adam'}.\n"
     ]
    },
    {
     "name": "stdout",
     "output_type": "stream",
     "text": [
      "Beginning fold 1\n",
      "Beginning fold 2\n",
      "Beginning fold 3\n",
      "Beginning fold 4\n",
      "Beginning fold 5\n"
     ]
    },
    {
     "name": "stderr",
     "output_type": "stream",
     "text": [
      "[I 2019-03-21 10:41:05,832] Finished a trial resulted in value: 1.9579703513990938. Current best value is 1.8384593086601277 with parameters: {'num_filter_1': 304.0, 'full_connect_units_': 512.0, 'num_filter_0': 16.0, 'learning_rate': 0.00022630135832119448, 'droprate_': 0.32477126487651914, 'num_filter_2': 480.0, 'optimizer': 'adam'}.\n"
     ]
    },
    {
     "name": "stdout",
     "output_type": "stream",
     "text": [
      "Beginning fold 1\n",
      "Beginning fold 2\n",
      "Beginning fold 3\n",
      "Beginning fold 4\n",
      "Beginning fold 5\n"
     ]
    },
    {
     "name": "stderr",
     "output_type": "stream",
     "text": [
      "[I 2019-03-21 10:50:09,179] Finished a trial resulted in value: 5.0. Current best value is 1.8384593086601277 with parameters: {'num_filter_1': 304.0, 'full_connect_units_': 512.0, 'num_filter_0': 16.0, 'learning_rate': 0.00022630135832119448, 'droprate_': 0.32477126487651914, 'num_filter_2': 480.0, 'optimizer': 'adam'}.\n"
     ]
    },
    {
     "name": "stdout",
     "output_type": "stream",
     "text": [
      "Beginning fold 1\n",
      "Beginning fold 2\n",
      "Beginning fold 3\n",
      "Beginning fold 4\n",
      "Beginning fold 5\n"
     ]
    },
    {
     "name": "stderr",
     "output_type": "stream",
     "text": [
      "[I 2019-03-21 11:04:09,076] Finished a trial resulted in value: 1.9979248968671597. Current best value is 1.8384593086601277 with parameters: {'num_filter_1': 304.0, 'full_connect_units_': 512.0, 'num_filter_0': 16.0, 'learning_rate': 0.00022630135832119448, 'droprate_': 0.32477126487651914, 'num_filter_2': 480.0, 'optimizer': 'adam'}.\n"
     ]
    },
    {
     "name": "stdout",
     "output_type": "stream",
     "text": [
      "Beginning fold 1\n",
      "Beginning fold 2\n",
      "Beginning fold 3\n",
      "Beginning fold 4\n",
      "Beginning fold 5\n"
     ]
    },
    {
     "name": "stderr",
     "output_type": "stream",
     "text": [
      "[I 2019-03-21 11:19:23,459] Finished a trial resulted in value: 2.9157047601133836. Current best value is 1.8384593086601277 with parameters: {'num_filter_1': 304.0, 'full_connect_units_': 512.0, 'num_filter_0': 16.0, 'learning_rate': 0.00022630135832119448, 'droprate_': 0.32477126487651914, 'num_filter_2': 480.0, 'optimizer': 'adam'}.\n"
     ]
    },
    {
     "name": "stdout",
     "output_type": "stream",
     "text": [
      "Beginning fold 1\n",
      "Beginning fold 2\n",
      "Beginning fold 3\n",
      "Beginning fold 4\n",
      "Beginning fold 5\n"
     ]
    },
    {
     "name": "stderr",
     "output_type": "stream",
     "text": [
      "[I 2019-03-21 11:25:39,332] Finished a trial resulted in value: 2.0755639612836836. Current best value is 1.8384593086601277 with parameters: {'num_filter_1': 304.0, 'full_connect_units_': 512.0, 'num_filter_0': 16.0, 'learning_rate': 0.00022630135832119448, 'droprate_': 0.32477126487651914, 'num_filter_2': 480.0, 'optimizer': 'adam'}.\n"
     ]
    },
    {
     "name": "stdout",
     "output_type": "stream",
     "text": [
      "Beginning fold 1\n",
      "Beginning fold 2\n",
      "Beginning fold 3\n",
      "Beginning fold 4\n",
      "Beginning fold 5\n"
     ]
    },
    {
     "name": "stderr",
     "output_type": "stream",
     "text": [
      "[I 2019-03-21 11:35:32,136] Finished a trial resulted in value: 1.9356746976075485. Current best value is 1.8384593086601277 with parameters: {'num_filter_1': 304.0, 'full_connect_units_': 512.0, 'num_filter_0': 16.0, 'learning_rate': 0.00022630135832119448, 'droprate_': 0.32477126487651914, 'num_filter_2': 480.0, 'optimizer': 'adam'}.\n"
     ]
    },
    {
     "name": "stdout",
     "output_type": "stream",
     "text": [
      "Beginning fold 1\n",
      "Beginning fold 2\n",
      "Beginning fold 3\n",
      "Beginning fold 4\n",
      "Beginning fold 5\n"
     ]
    },
    {
     "name": "stderr",
     "output_type": "stream",
     "text": [
      "[I 2019-03-21 11:51:05,714] Finished a trial resulted in value: 2.1383155733516737. Current best value is 1.8384593086601277 with parameters: {'num_filter_1': 304.0, 'full_connect_units_': 512.0, 'num_filter_0': 16.0, 'learning_rate': 0.00022630135832119448, 'droprate_': 0.32477126487651914, 'num_filter_2': 480.0, 'optimizer': 'adam'}.\n"
     ]
    },
    {
     "name": "stdout",
     "output_type": "stream",
     "text": [
      "Beginning fold 1\n"
     ]
    },
    {
     "name": "stderr",
     "output_type": "stream",
     "text": [
      "[I 2019-03-21 11:51:13,492] Setting trial status as TrialState.PRUNED. \n"
     ]
    },
    {
     "name": "stdout",
     "output_type": "stream",
     "text": [
      "Beginning fold 1\n",
      "Beginning fold 2\n",
      "Beginning fold 3\n",
      "Beginning fold 4\n",
      "Beginning fold 5\n"
     ]
    },
    {
     "name": "stderr",
     "output_type": "stream",
     "text": [
      "[I 2019-03-21 12:05:33,493] Finished a trial resulted in value: 1.9963330016631433. Current best value is 1.8384593086601277 with parameters: {'num_filter_1': 304.0, 'full_connect_units_': 512.0, 'num_filter_0': 16.0, 'learning_rate': 0.00022630135832119448, 'droprate_': 0.32477126487651914, 'num_filter_2': 480.0, 'optimizer': 'adam'}.\n"
     ]
    },
    {
     "name": "stdout",
     "output_type": "stream",
     "text": [
      "Beginning fold 1\n",
      "Beginning fold 2\n",
      "Beginning fold 3\n",
      "Beginning fold 4\n",
      "Beginning fold 5\n"
     ]
    },
    {
     "name": "stderr",
     "output_type": "stream",
     "text": [
      "[I 2019-03-21 12:15:27,242] Finished a trial resulted in value: 1.9409146391253502. Current best value is 1.8384593086601277 with parameters: {'num_filter_1': 304.0, 'full_connect_units_': 512.0, 'num_filter_0': 16.0, 'learning_rate': 0.00022630135832119448, 'droprate_': 0.32477126487651914, 'num_filter_2': 480.0, 'optimizer': 'adam'}.\n"
     ]
    },
    {
     "name": "stdout",
     "output_type": "stream",
     "text": [
      "Beginning fold 1\n",
      "Beginning fold 2\n",
      "Beginning fold 3\n",
      "Beginning fold 4\n",
      "Beginning fold 5\n"
     ]
    },
    {
     "name": "stderr",
     "output_type": "stream",
     "text": [
      "[I 2019-03-21 12:25:17,092] Finished a trial resulted in value: 1.937250524556446. Current best value is 1.8384593086601277 with parameters: {'num_filter_1': 304.0, 'full_connect_units_': 512.0, 'num_filter_0': 16.0, 'learning_rate': 0.00022630135832119448, 'droprate_': 0.32477126487651914, 'num_filter_2': 480.0, 'optimizer': 'adam'}.\n"
     ]
    },
    {
     "name": "stdout",
     "output_type": "stream",
     "text": [
      "Beginning fold 1\n",
      "Beginning fold 2\n",
      "Beginning fold 3\n",
      "Beginning fold 4\n",
      "Beginning fold 5\n"
     ]
    },
    {
     "name": "stderr",
     "output_type": "stream",
     "text": [
      "[I 2019-03-21 12:32:25,786] Finished a trial resulted in value: 1.849972111040167. Current best value is 1.8384593086601277 with parameters: {'num_filter_1': 304.0, 'full_connect_units_': 512.0, 'num_filter_0': 16.0, 'learning_rate': 0.00022630135832119448, 'droprate_': 0.32477126487651914, 'num_filter_2': 480.0, 'optimizer': 'adam'}.\n"
     ]
    },
    {
     "name": "stdout",
     "output_type": "stream",
     "text": [
      "Beginning fold 1\n",
      "Beginning fold 2\n",
      "Beginning fold 3\n",
      "Beginning fold 4\n",
      "Beginning fold 5\n"
     ]
    },
    {
     "name": "stderr",
     "output_type": "stream",
     "text": [
      "[I 2019-03-21 12:41:06,662] Finished a trial resulted in value: 2.4710402324446186. Current best value is 1.8384593086601277 with parameters: {'num_filter_1': 304.0, 'full_connect_units_': 512.0, 'num_filter_0': 16.0, 'learning_rate': 0.00022630135832119448, 'droprate_': 0.32477126487651914, 'num_filter_2': 480.0, 'optimizer': 'adam'}.\n"
     ]
    },
    {
     "name": "stdout",
     "output_type": "stream",
     "text": [
      "Beginning fold 1\n",
      "Beginning fold 2\n",
      "Beginning fold 3\n",
      "Beginning fold 4\n",
      "Beginning fold 5\n"
     ]
    },
    {
     "name": "stderr",
     "output_type": "stream",
     "text": [
      "[I 2019-03-21 12:54:18,795] Finished a trial resulted in value: 2.146071386770203. Current best value is 1.8384593086601277 with parameters: {'num_filter_1': 304.0, 'full_connect_units_': 512.0, 'num_filter_0': 16.0, 'learning_rate': 0.00022630135832119448, 'droprate_': 0.32477126487651914, 'num_filter_2': 480.0, 'optimizer': 'adam'}.\n"
     ]
    },
    {
     "name": "stdout",
     "output_type": "stream",
     "text": [
      "Beginning fold 1\n",
      "Beginning fold 2\n",
      "Beginning fold 3\n",
      "Beginning fold 4\n",
      "Beginning fold 5\n"
     ]
    },
    {
     "name": "stderr",
     "output_type": "stream",
     "text": [
      "[I 2019-03-21 13:08:12,112] Finished a trial resulted in value: 1.930464275730298. Current best value is 1.8384593086601277 with parameters: {'num_filter_1': 304.0, 'full_connect_units_': 512.0, 'num_filter_0': 16.0, 'learning_rate': 0.00022630135832119448, 'droprate_': 0.32477126487651914, 'num_filter_2': 480.0, 'optimizer': 'adam'}.\n"
     ]
    },
    {
     "name": "stdout",
     "output_type": "stream",
     "text": [
      "Beginning fold 1\n",
      "Beginning fold 2\n",
      "Beginning fold 3\n",
      "Beginning fold 4\n",
      "Beginning fold 5\n"
     ]
    },
    {
     "name": "stderr",
     "output_type": "stream",
     "text": [
      "[I 2019-03-21 13:16:34,551] Finished a trial resulted in value: 1.9864056466870872. Current best value is 1.8384593086601277 with parameters: {'num_filter_1': 304.0, 'full_connect_units_': 512.0, 'num_filter_0': 16.0, 'learning_rate': 0.00022630135832119448, 'droprate_': 0.32477126487651914, 'num_filter_2': 480.0, 'optimizer': 'adam'}.\n"
     ]
    },
    {
     "name": "stdout",
     "output_type": "stream",
     "text": [
      "Beginning fold 1\n",
      "Beginning fold 2\n",
      "Beginning fold 3\n",
      "Beginning fold 4\n",
      "Beginning fold 5\n"
     ]
    },
    {
     "name": "stderr",
     "output_type": "stream",
     "text": [
      "[I 2019-03-21 13:31:07,745] Finished a trial resulted in value: 2.0412931145474236. Current best value is 1.8384593086601277 with parameters: {'num_filter_1': 304.0, 'full_connect_units_': 512.0, 'num_filter_0': 16.0, 'learning_rate': 0.00022630135832119448, 'droprate_': 0.32477126487651914, 'num_filter_2': 480.0, 'optimizer': 'adam'}.\n"
     ]
    },
    {
     "name": "stdout",
     "output_type": "stream",
     "text": [
      "Beginning fold 1\n",
      "Beginning fold 2\n",
      "Beginning fold 3\n",
      "Beginning fold 4\n",
      "Beginning fold 5\n"
     ]
    },
    {
     "name": "stderr",
     "output_type": "stream",
     "text": [
      "[I 2019-03-21 13:42:44,018] Finished a trial resulted in value: 2.3189844651253546. Current best value is 1.8384593086601277 with parameters: {'num_filter_1': 304.0, 'full_connect_units_': 512.0, 'num_filter_0': 16.0, 'learning_rate': 0.00022630135832119448, 'droprate_': 0.32477126487651914, 'num_filter_2': 480.0, 'optimizer': 'adam'}.\n"
     ]
    },
    {
     "name": "stdout",
     "output_type": "stream",
     "text": [
      "Beginning fold 1\n",
      "Beginning fold 2\n",
      "Beginning fold 3\n",
      "Beginning fold 4\n",
      "Beginning fold 5\n"
     ]
    },
    {
     "name": "stderr",
     "output_type": "stream",
     "text": [
      "[I 2019-03-21 13:53:58,890] Finished a trial resulted in value: 1.8522451261151212. Current best value is 1.8384593086601277 with parameters: {'num_filter_1': 304.0, 'full_connect_units_': 512.0, 'num_filter_0': 16.0, 'learning_rate': 0.00022630135832119448, 'droprate_': 0.32477126487651914, 'num_filter_2': 480.0, 'optimizer': 'adam'}.\n"
     ]
    },
    {
     "name": "stdout",
     "output_type": "stream",
     "text": [
      "Beginning fold 1\n",
      "Beginning fold 2\n",
      "Beginning fold 3\n",
      "Beginning fold 4\n",
      "Beginning fold 5\n"
     ]
    },
    {
     "name": "stderr",
     "output_type": "stream",
     "text": [
      "[I 2019-03-21 14:01:41,534] Finished a trial resulted in value: 1.9633778422902046. Current best value is 1.8384593086601277 with parameters: {'num_filter_1': 304.0, 'full_connect_units_': 512.0, 'num_filter_0': 16.0, 'learning_rate': 0.00022630135832119448, 'droprate_': 0.32477126487651914, 'num_filter_2': 480.0, 'optimizer': 'adam'}.\n"
     ]
    },
    {
     "name": "stdout",
     "output_type": "stream",
     "text": [
      "Beginning fold 1\n",
      "Beginning fold 2\n",
      "Beginning fold 3\n",
      "Beginning fold 4\n",
      "Beginning fold 5\n"
     ]
    },
    {
     "name": "stderr",
     "output_type": "stream",
     "text": [
      "[I 2019-03-21 14:12:13,885] Finished a trial resulted in value: 2.0296501230243105. Current best value is 1.8384593086601277 with parameters: {'num_filter_1': 304.0, 'full_connect_units_': 512.0, 'num_filter_0': 16.0, 'learning_rate': 0.00022630135832119448, 'droprate_': 0.32477126487651914, 'num_filter_2': 480.0, 'optimizer': 'adam'}.\n"
     ]
    },
    {
     "name": "stdout",
     "output_type": "stream",
     "text": [
      "Beginning fold 1\n",
      "Beginning fold 2\n",
      "Beginning fold 3\n",
      "Beginning fold 4\n",
      "Beginning fold 5\n"
     ]
    },
    {
     "name": "stderr",
     "output_type": "stream",
     "text": [
      "[I 2019-03-21 14:25:21,357] Finished a trial resulted in value: 2.748607008387593. Current best value is 1.8384593086601277 with parameters: {'num_filter_1': 304.0, 'full_connect_units_': 512.0, 'num_filter_0': 16.0, 'learning_rate': 0.00022630135832119448, 'droprate_': 0.32477126487651914, 'num_filter_2': 480.0, 'optimizer': 'adam'}.\n"
     ]
    },
    {
     "name": "stdout",
     "output_type": "stream",
     "text": [
      "Beginning fold 1\n",
      "Beginning fold 2\n",
      "Beginning fold 3\n",
      "Beginning fold 4\n",
      "Beginning fold 5\n"
     ]
    },
    {
     "name": "stderr",
     "output_type": "stream",
     "text": [
      "[I 2019-03-21 14:32:01,089] Finished a trial resulted in value: 1.947419312032726. Current best value is 1.8384593086601277 with parameters: {'num_filter_1': 304.0, 'full_connect_units_': 512.0, 'num_filter_0': 16.0, 'learning_rate': 0.00022630135832119448, 'droprate_': 0.32477126487651914, 'num_filter_2': 480.0, 'optimizer': 'adam'}.\n"
     ]
    },
    {
     "name": "stdout",
     "output_type": "stream",
     "text": [
      "Beginning fold 1\n",
      "Beginning fold 2\n",
      "Beginning fold 3\n",
      "Beginning fold 4\n",
      "Beginning fold 5\n"
     ]
    },
    {
     "name": "stderr",
     "output_type": "stream",
     "text": [
      "[I 2019-03-21 14:39:21,342] Finished a trial resulted in value: 1.8887001399639887. Current best value is 1.8384593086601277 with parameters: {'num_filter_1': 304.0, 'full_connect_units_': 512.0, 'num_filter_0': 16.0, 'learning_rate': 0.00022630135832119448, 'droprate_': 0.32477126487651914, 'num_filter_2': 480.0, 'optimizer': 'adam'}.\n"
     ]
    },
    {
     "name": "stdout",
     "output_type": "stream",
     "text": [
      "Beginning fold 1\n",
      "Beginning fold 2\n",
      "Beginning fold 3\n",
      "Beginning fold 4\n",
      "Beginning fold 5\n"
     ]
    },
    {
     "name": "stderr",
     "output_type": "stream",
     "text": [
      "[I 2019-03-21 14:48:04,195] Finished a trial resulted in value: 1.9957669964870317. Current best value is 1.8384593086601277 with parameters: {'num_filter_1': 304.0, 'full_connect_units_': 512.0, 'num_filter_0': 16.0, 'learning_rate': 0.00022630135832119448, 'droprate_': 0.32477126487651914, 'num_filter_2': 480.0, 'optimizer': 'adam'}.\n"
     ]
    },
    {
     "name": "stdout",
     "output_type": "stream",
     "text": [
      "Beginning fold 1\n",
      "Beginning fold 2\n",
      "Beginning fold 3\n",
      "Beginning fold 4\n",
      "Beginning fold 5\n"
     ]
    },
    {
     "name": "stderr",
     "output_type": "stream",
     "text": [
      "[I 2019-03-21 14:53:51,494] Finished a trial resulted in value: 1.9468744289700488. Current best value is 1.8384593086601277 with parameters: {'num_filter_1': 304.0, 'full_connect_units_': 512.0, 'num_filter_0': 16.0, 'learning_rate': 0.00022630135832119448, 'droprate_': 0.32477126487651914, 'num_filter_2': 480.0, 'optimizer': 'adam'}.\n"
     ]
    },
    {
     "name": "stdout",
     "output_type": "stream",
     "text": [
      "Beginning fold 1\n",
      "Beginning fold 2\n",
      "Beginning fold 3\n",
      "Beginning fold 4\n",
      "Beginning fold 5\n"
     ]
    },
    {
     "name": "stderr",
     "output_type": "stream",
     "text": [
      "[I 2019-03-21 15:03:05,212] Finished a trial resulted in value: 1.8828691767500734. Current best value is 1.8384593086601277 with parameters: {'num_filter_1': 304.0, 'full_connect_units_': 512.0, 'num_filter_0': 16.0, 'learning_rate': 0.00022630135832119448, 'droprate_': 0.32477126487651914, 'num_filter_2': 480.0, 'optimizer': 'adam'}.\n"
     ]
    },
    {
     "name": "stdout",
     "output_type": "stream",
     "text": [
      "Beginning fold 1\n",
      "Beginning fold 2\n",
      "Beginning fold 3\n",
      "Beginning fold 4\n",
      "Beginning fold 5\n"
     ]
    },
    {
     "name": "stderr",
     "output_type": "stream",
     "text": [
      "[I 2019-03-21 15:14:28,061] Finished a trial resulted in value: 2.064446236249661. Current best value is 1.8384593086601277 with parameters: {'num_filter_1': 304.0, 'full_connect_units_': 512.0, 'num_filter_0': 16.0, 'learning_rate': 0.00022630135832119448, 'droprate_': 0.32477126487651914, 'num_filter_2': 480.0, 'optimizer': 'adam'}.\n"
     ]
    },
    {
     "name": "stdout",
     "output_type": "stream",
     "text": [
      "Beginning fold 1\n",
      "Beginning fold 2\n",
      "Beginning fold 3\n",
      "Beginning fold 4\n",
      "Beginning fold 5\n"
     ]
    },
    {
     "name": "stderr",
     "output_type": "stream",
     "text": [
      "[I 2019-03-21 15:26:28,300] Finished a trial resulted in value: 1.8624368072474986. Current best value is 1.8384593086601277 with parameters: {'num_filter_1': 304.0, 'full_connect_units_': 512.0, 'num_filter_0': 16.0, 'learning_rate': 0.00022630135832119448, 'droprate_': 0.32477126487651914, 'num_filter_2': 480.0, 'optimizer': 'adam'}.\n"
     ]
    },
    {
     "name": "stdout",
     "output_type": "stream",
     "text": [
      "Beginning fold 1\n",
      "Beginning fold 2\n",
      "Beginning fold 3\n",
      "Beginning fold 4\n",
      "Beginning fold 5\n"
     ]
    },
    {
     "name": "stderr",
     "output_type": "stream",
     "text": [
      "[I 2019-03-21 15:41:23,656] Finished a trial resulted in value: 2.5232285746715295. Current best value is 1.8384593086601277 with parameters: {'num_filter_1': 304.0, 'full_connect_units_': 512.0, 'num_filter_0': 16.0, 'learning_rate': 0.00022630135832119448, 'droprate_': 0.32477126487651914, 'num_filter_2': 480.0, 'optimizer': 'adam'}.\n"
     ]
    },
    {
     "name": "stdout",
     "output_type": "stream",
     "text": [
      "Beginning fold 1\n",
      "Beginning fold 2\n",
      "Beginning fold 3\n",
      "Beginning fold 4\n",
      "Beginning fold 5\n"
     ]
    },
    {
     "name": "stderr",
     "output_type": "stream",
     "text": [
      "[I 2019-03-21 15:49:57,312] Finished a trial resulted in value: 1.9413738937151543. Current best value is 1.8384593086601277 with parameters: {'num_filter_1': 304.0, 'full_connect_units_': 512.0, 'num_filter_0': 16.0, 'learning_rate': 0.00022630135832119448, 'droprate_': 0.32477126487651914, 'num_filter_2': 480.0, 'optimizer': 'adam'}.\n"
     ]
    },
    {
     "name": "stdout",
     "output_type": "stream",
     "text": [
      "Beginning fold 1\n"
     ]
    },
    {
     "name": "stderr",
     "output_type": "stream",
     "text": [
      "[I 2019-03-21 15:50:03,530] Setting trial status as TrialState.PRUNED. \n"
     ]
    },
    {
     "name": "stdout",
     "output_type": "stream",
     "text": [
      "Beginning fold 1\n"
     ]
    },
    {
     "name": "stderr",
     "output_type": "stream",
     "text": [
      "[I 2019-03-21 15:50:10,249] Setting trial status as TrialState.PRUNED. \n"
     ]
    },
    {
     "name": "stdout",
     "output_type": "stream",
     "text": [
      "Beginning fold 1\n",
      "Beginning fold 2\n",
      "Beginning fold 3\n",
      "Beginning fold 4\n",
      "Beginning fold 5\n"
     ]
    },
    {
     "name": "stderr",
     "output_type": "stream",
     "text": [
      "[I 2019-03-21 16:05:06,287] Finished a trial resulted in value: 1.9316961560838306. Current best value is 1.8384593086601277 with parameters: {'num_filter_1': 304.0, 'full_connect_units_': 512.0, 'num_filter_0': 16.0, 'learning_rate': 0.00022630135832119448, 'droprate_': 0.32477126487651914, 'num_filter_2': 480.0, 'optimizer': 'adam'}.\n"
     ]
    },
    {
     "name": "stdout",
     "output_type": "stream",
     "text": [
      "Beginning fold 1\n"
     ]
    },
    {
     "name": "stderr",
     "output_type": "stream",
     "text": [
      "[I 2019-03-21 16:05:13,550] Setting trial status as TrialState.PRUNED. \n"
     ]
    },
    {
     "name": "stdout",
     "output_type": "stream",
     "text": [
      "Beginning fold 1\n",
      "Beginning fold 2\n",
      "Beginning fold 3\n",
      "Beginning fold 4\n",
      "Beginning fold 5\n"
     ]
    },
    {
     "name": "stderr",
     "output_type": "stream",
     "text": [
      "[I 2019-03-21 16:13:07,122] Finished a trial resulted in value: 1.9913854285464532. Current best value is 1.8384593086601277 with parameters: {'num_filter_1': 304.0, 'full_connect_units_': 512.0, 'num_filter_0': 16.0, 'learning_rate': 0.00022630135832119448, 'droprate_': 0.32477126487651914, 'num_filter_2': 480.0, 'optimizer': 'adam'}.\n"
     ]
    },
    {
     "name": "stdout",
     "output_type": "stream",
     "text": [
      "Beginning fold 1\n",
      "Beginning fold 2\n",
      "Beginning fold 3\n",
      "Beginning fold 4\n",
      "Beginning fold 5\n"
     ]
    },
    {
     "name": "stderr",
     "output_type": "stream",
     "text": [
      "[I 2019-03-21 16:22:50,371] Finished a trial resulted in value: 1.9411905362541493. Current best value is 1.8384593086601277 with parameters: {'num_filter_1': 304.0, 'full_connect_units_': 512.0, 'num_filter_0': 16.0, 'learning_rate': 0.00022630135832119448, 'droprate_': 0.32477126487651914, 'num_filter_2': 480.0, 'optimizer': 'adam'}.\n"
     ]
    },
    {
     "name": "stdout",
     "output_type": "stream",
     "text": [
      "Beginning fold 1\n",
      "Beginning fold 2\n",
      "Beginning fold 3\n",
      "Beginning fold 4\n",
      "Beginning fold 5\n"
     ]
    },
    {
     "name": "stderr",
     "output_type": "stream",
     "text": [
      "[I 2019-03-21 16:31:14,278] Finished a trial resulted in value: 1.955162623867245. Current best value is 1.8384593086601277 with parameters: {'num_filter_1': 304.0, 'full_connect_units_': 512.0, 'num_filter_0': 16.0, 'learning_rate': 0.00022630135832119448, 'droprate_': 0.32477126487651914, 'num_filter_2': 480.0, 'optimizer': 'adam'}.\n"
     ]
    },
    {
     "name": "stdout",
     "output_type": "stream",
     "text": [
      "Beginning fold 1\n",
      "Beginning fold 2\n",
      "Beginning fold 3\n",
      "Beginning fold 4\n",
      "Beginning fold 5\n"
     ]
    },
    {
     "name": "stderr",
     "output_type": "stream",
     "text": [
      "[I 2019-03-21 16:45:54,909] Finished a trial resulted in value: 1.911630188323155. Current best value is 1.8384593086601277 with parameters: {'num_filter_1': 304.0, 'full_connect_units_': 512.0, 'num_filter_0': 16.0, 'learning_rate': 0.00022630135832119448, 'droprate_': 0.32477126487651914, 'num_filter_2': 480.0, 'optimizer': 'adam'}.\n"
     ]
    },
    {
     "name": "stdout",
     "output_type": "stream",
     "text": [
      "Beginning fold 1\n",
      "Beginning fold 2\n",
      "Beginning fold 3\n",
      "Beginning fold 4\n",
      "Beginning fold 5\n"
     ]
    },
    {
     "name": "stderr",
     "output_type": "stream",
     "text": [
      "[I 2019-03-21 17:05:29,659] Finished a trial resulted in value: 2.4939000580176502. Current best value is 1.8384593086601277 with parameters: {'num_filter_1': 304.0, 'full_connect_units_': 512.0, 'num_filter_0': 16.0, 'learning_rate': 0.00022630135832119448, 'droprate_': 0.32477126487651914, 'num_filter_2': 480.0, 'optimizer': 'adam'}.\n"
     ]
    },
    {
     "name": "stdout",
     "output_type": "stream",
     "text": [
      "Beginning fold 1\n",
      "Beginning fold 2\n",
      "Beginning fold 3\n",
      "Beginning fold 4\n",
      "Beginning fold 5\n"
     ]
    },
    {
     "name": "stderr",
     "output_type": "stream",
     "text": [
      "[I 2019-03-21 17:13:45,933] Finished a trial resulted in value: 2.080508042093289. Current best value is 1.8384593086601277 with parameters: {'num_filter_1': 304.0, 'full_connect_units_': 512.0, 'num_filter_0': 16.0, 'learning_rate': 0.00022630135832119448, 'droprate_': 0.32477126487651914, 'num_filter_2': 480.0, 'optimizer': 'adam'}.\n"
     ]
    },
    {
     "name": "stdout",
     "output_type": "stream",
     "text": [
      "Beginning fold 1\n"
     ]
    },
    {
     "name": "stderr",
     "output_type": "stream",
     "text": [
      "[I 2019-03-21 17:13:53,533] Setting trial status as TrialState.PRUNED. \n"
     ]
    },
    {
     "name": "stdout",
     "output_type": "stream",
     "text": [
      "Beginning fold 1\n",
      "Beginning fold 2\n",
      "Beginning fold 3\n",
      "Beginning fold 4\n",
      "Beginning fold 5\n"
     ]
    },
    {
     "name": "stderr",
     "output_type": "stream",
     "text": [
      "[I 2019-03-21 17:21:25,037] Finished a trial resulted in value: 1.986798916847649. Current best value is 1.8384593086601277 with parameters: {'num_filter_1': 304.0, 'full_connect_units_': 512.0, 'num_filter_0': 16.0, 'learning_rate': 0.00022630135832119448, 'droprate_': 0.32477126487651914, 'num_filter_2': 480.0, 'optimizer': 'adam'}.\n"
     ]
    },
    {
     "name": "stdout",
     "output_type": "stream",
     "text": [
      "Beginning fold 1\n"
     ]
    },
    {
     "name": "stderr",
     "output_type": "stream",
     "text": [
      "[I 2019-03-21 17:21:31,939] Setting trial status as TrialState.PRUNED. \n"
     ]
    },
    {
     "name": "stdout",
     "output_type": "stream",
     "text": [
      "Beginning fold 1\n",
      "Beginning fold 2\n",
      "Beginning fold 3\n",
      "Beginning fold 4\n",
      "Beginning fold 5\n"
     ]
    },
    {
     "name": "stderr",
     "output_type": "stream",
     "text": [
      "[I 2019-03-21 17:30:25,629] Finished a trial resulted in value: 1.9166391901850386. Current best value is 1.8384593086601277 with parameters: {'num_filter_1': 304.0, 'full_connect_units_': 512.0, 'num_filter_0': 16.0, 'learning_rate': 0.00022630135832119448, 'droprate_': 0.32477126487651914, 'num_filter_2': 480.0, 'optimizer': 'adam'}.\n"
     ]
    },
    {
     "name": "stdout",
     "output_type": "stream",
     "text": [
      "Beginning fold 1\n",
      "Beginning fold 2\n",
      "Beginning fold 3\n",
      "Beginning fold 4\n",
      "Beginning fold 5\n"
     ]
    },
    {
     "name": "stderr",
     "output_type": "stream",
     "text": [
      "[I 2019-03-21 17:40:48,340] Finished a trial resulted in value: 2.047176551073289. Current best value is 1.8384593086601277 with parameters: {'num_filter_1': 304.0, 'full_connect_units_': 512.0, 'num_filter_0': 16.0, 'learning_rate': 0.00022630135832119448, 'droprate_': 0.32477126487651914, 'num_filter_2': 480.0, 'optimizer': 'adam'}.\n"
     ]
    },
    {
     "name": "stdout",
     "output_type": "stream",
     "text": [
      "Beginning fold 1\n",
      "Beginning fold 2\n",
      "Beginning fold 3\n",
      "Beginning fold 4\n",
      "Beginning fold 5\n"
     ]
    },
    {
     "name": "stderr",
     "output_type": "stream",
     "text": [
      "[I 2019-03-21 17:47:54,899] Finished a trial resulted in value: 2.1768144538958936. Current best value is 1.8384593086601277 with parameters: {'num_filter_1': 304.0, 'full_connect_units_': 512.0, 'num_filter_0': 16.0, 'learning_rate': 0.00022630135832119448, 'droprate_': 0.32477126487651914, 'num_filter_2': 480.0, 'optimizer': 'adam'}.\n"
     ]
    },
    {
     "name": "stdout",
     "output_type": "stream",
     "text": [
      "Beginning fold 1\n",
      "Beginning fold 2\n",
      "Beginning fold 3\n",
      "Beginning fold 4\n",
      "Beginning fold 5\n"
     ]
    },
    {
     "name": "stderr",
     "output_type": "stream",
     "text": [
      "[I 2019-03-21 18:05:20,860] Finished a trial resulted in value: 2.4334280913355446. Current best value is 1.8384593086601277 with parameters: {'num_filter_1': 304.0, 'full_connect_units_': 512.0, 'num_filter_0': 16.0, 'learning_rate': 0.00022630135832119448, 'droprate_': 0.32477126487651914, 'num_filter_2': 480.0, 'optimizer': 'adam'}.\n"
     ]
    },
    {
     "name": "stdout",
     "output_type": "stream",
     "text": [
      "Beginning fold 1\n",
      "Beginning fold 2\n",
      "Beginning fold 3\n",
      "Beginning fold 4\n",
      "Beginning fold 5\n"
     ]
    },
    {
     "name": "stderr",
     "output_type": "stream",
     "text": [
      "[I 2019-03-21 18:18:07,038] Finished a trial resulted in value: 2.3340077682394758. Current best value is 1.8384593086601277 with parameters: {'num_filter_1': 304.0, 'full_connect_units_': 512.0, 'num_filter_0': 16.0, 'learning_rate': 0.00022630135832119448, 'droprate_': 0.32477126487651914, 'num_filter_2': 480.0, 'optimizer': 'adam'}.\n"
     ]
    },
    {
     "name": "stdout",
     "output_type": "stream",
     "text": [
      "Beginning fold 1\n"
     ]
    },
    {
     "name": "stderr",
     "output_type": "stream",
     "text": [
      "[I 2019-03-21 18:18:13,787] Setting trial status as TrialState.PRUNED. \n"
     ]
    },
    {
     "name": "stdout",
     "output_type": "stream",
     "text": [
      "Beginning fold 1\n"
     ]
    },
    {
     "name": "stderr",
     "output_type": "stream",
     "text": [
      "[I 2019-03-21 18:18:20,719] Setting trial status as TrialState.PRUNED. \n"
     ]
    },
    {
     "name": "stdout",
     "output_type": "stream",
     "text": [
      "Beginning fold 1\n",
      "Beginning fold 2\n",
      "Beginning fold 3\n",
      "Beginning fold 4\n",
      "Beginning fold 5\n"
     ]
    },
    {
     "name": "stderr",
     "output_type": "stream",
     "text": [
      "[I 2019-03-21 18:28:15,804] Finished a trial resulted in value: 1.8999762166427052. Current best value is 1.8384593086601277 with parameters: {'num_filter_1': 304.0, 'full_connect_units_': 512.0, 'num_filter_0': 16.0, 'learning_rate': 0.00022630135832119448, 'droprate_': 0.32477126487651914, 'num_filter_2': 480.0, 'optimizer': 'adam'}.\n"
     ]
    },
    {
     "name": "stdout",
     "output_type": "stream",
     "text": [
      "Beginning fold 1\n",
      "Beginning fold 2\n",
      "Beginning fold 3\n",
      "Beginning fold 4\n",
      "Beginning fold 5\n"
     ]
    },
    {
     "name": "stderr",
     "output_type": "stream",
     "text": [
      "[I 2019-03-21 18:32:56,190] Finished a trial resulted in value: 1.8291499926727366. Current best value is 1.8291499926727366 with parameters: {'num_filter_1': 80.0, 'full_connect_units_': 512.0, 'num_filter_0': 32.0, 'learning_rate': 0.0006695637600302005, 'droprate_': 0.7541380351741535, 'num_filter_2': 96.0, 'optimizer': 'adam'}.\n"
     ]
    },
    {
     "name": "stdout",
     "output_type": "stream",
     "text": [
      "Beginning fold 1\n",
      "Beginning fold 2\n",
      "Beginning fold 3\n",
      "Beginning fold 4\n",
      "Beginning fold 5\n"
     ]
    },
    {
     "name": "stderr",
     "output_type": "stream",
     "text": [
      "[I 2019-03-21 18:44:42,533] Finished a trial resulted in value: 4.561569380349127. Current best value is 1.8291499926727366 with parameters: {'num_filter_1': 80.0, 'full_connect_units_': 512.0, 'num_filter_0': 32.0, 'learning_rate': 0.0006695637600302005, 'droprate_': 0.7541380351741535, 'num_filter_2': 96.0, 'optimizer': 'adam'}.\n"
     ]
    },
    {
     "name": "stdout",
     "output_type": "stream",
     "text": [
      "Beginning fold 1\n",
      "Beginning fold 2\n",
      "Beginning fold 3\n",
      "Beginning fold 4\n",
      "Beginning fold 5\n"
     ]
    },
    {
     "name": "stderr",
     "output_type": "stream",
     "text": [
      "[I 2019-03-21 18:56:26,302] Finished a trial resulted in value: 5.0. Current best value is 1.8291499926727366 with parameters: {'num_filter_1': 80.0, 'full_connect_units_': 512.0, 'num_filter_0': 32.0, 'learning_rate': 0.0006695637600302005, 'droprate_': 0.7541380351741535, 'num_filter_2': 96.0, 'optimizer': 'adam'}.\n"
     ]
    },
    {
     "name": "stdout",
     "output_type": "stream",
     "text": [
      "Beginning fold 1\n",
      "Beginning fold 2\n",
      "Beginning fold 3\n",
      "Beginning fold 4\n",
      "Beginning fold 5\n"
     ]
    },
    {
     "name": "stderr",
     "output_type": "stream",
     "text": [
      "[I 2019-03-21 19:08:04,483] Finished a trial resulted in value: 3.3773321056268353. Current best value is 1.8291499926727366 with parameters: {'num_filter_1': 80.0, 'full_connect_units_': 512.0, 'num_filter_0': 32.0, 'learning_rate': 0.0006695637600302005, 'droprate_': 0.7541380351741535, 'num_filter_2': 96.0, 'optimizer': 'adam'}.\n"
     ]
    },
    {
     "name": "stdout",
     "output_type": "stream",
     "text": [
      "Beginning fold 1\n",
      "Beginning fold 2\n",
      "Beginning fold 3\n",
      "Beginning fold 4\n",
      "Beginning fold 5\n"
     ]
    },
    {
     "name": "stderr",
     "output_type": "stream",
     "text": [
      "[I 2019-03-21 19:15:35,833] Finished a trial resulted in value: 2.374677046541323. Current best value is 1.8291499926727366 with parameters: {'num_filter_1': 80.0, 'full_connect_units_': 512.0, 'num_filter_0': 32.0, 'learning_rate': 0.0006695637600302005, 'droprate_': 0.7541380351741535, 'num_filter_2': 96.0, 'optimizer': 'adam'}.\n"
     ]
    },
    {
     "name": "stdout",
     "output_type": "stream",
     "text": [
      "Beginning fold 1\n",
      "Beginning fold 2\n",
      "Beginning fold 3\n",
      "Beginning fold 4\n",
      "Beginning fold 5\n"
     ]
    },
    {
     "name": "stderr",
     "output_type": "stream",
     "text": [
      "[I 2019-03-21 19:21:49,521] Finished a trial resulted in value: 1.9367997366640484. Current best value is 1.8291499926727366 with parameters: {'num_filter_1': 80.0, 'full_connect_units_': 512.0, 'num_filter_0': 32.0, 'learning_rate': 0.0006695637600302005, 'droprate_': 0.7541380351741535, 'num_filter_2': 96.0, 'optimizer': 'adam'}.\n"
     ]
    },
    {
     "name": "stdout",
     "output_type": "stream",
     "text": [
      "Beginning fold 1\n",
      "Beginning fold 2\n",
      "Beginning fold 3\n",
      "Beginning fold 4\n",
      "Beginning fold 5\n"
     ]
    },
    {
     "name": "stderr",
     "output_type": "stream",
     "text": [
      "[I 2019-03-21 19:35:50,502] Finished a trial resulted in value: 2.459831169051836. Current best value is 1.8291499926727366 with parameters: {'num_filter_1': 80.0, 'full_connect_units_': 512.0, 'num_filter_0': 32.0, 'learning_rate': 0.0006695637600302005, 'droprate_': 0.7541380351741535, 'num_filter_2': 96.0, 'optimizer': 'adam'}.\n"
     ]
    },
    {
     "name": "stdout",
     "output_type": "stream",
     "text": [
      "Beginning fold 1\n",
      "Beginning fold 2\n",
      "Beginning fold 3\n",
      "Beginning fold 4\n",
      "Beginning fold 5\n"
     ]
    },
    {
     "name": "stderr",
     "output_type": "stream",
     "text": [
      "[I 2019-03-21 19:46:04,529] Finished a trial resulted in value: 4.336023558456054. Current best value is 1.8291499926727366 with parameters: {'num_filter_1': 80.0, 'full_connect_units_': 512.0, 'num_filter_0': 32.0, 'learning_rate': 0.0006695637600302005, 'droprate_': 0.7541380351741535, 'num_filter_2': 96.0, 'optimizer': 'adam'}.\n"
     ]
    },
    {
     "name": "stdout",
     "output_type": "stream",
     "text": [
      "Beginning fold 1\n",
      "Beginning fold 2\n",
      "Beginning fold 3\n",
      "Beginning fold 4\n",
      "Beginning fold 5\n"
     ]
    },
    {
     "name": "stderr",
     "output_type": "stream",
     "text": [
      "[I 2019-03-21 19:56:03,007] Finished a trial resulted in value: 4.271579046019983. Current best value is 1.8291499926727366 with parameters: {'num_filter_1': 80.0, 'full_connect_units_': 512.0, 'num_filter_0': 32.0, 'learning_rate': 0.0006695637600302005, 'droprate_': 0.7541380351741535, 'num_filter_2': 96.0, 'optimizer': 'adam'}.\n"
     ]
    },
    {
     "name": "stdout",
     "output_type": "stream",
     "text": [
      "Beginning fold 1\n",
      "Beginning fold 2\n",
      "Beginning fold 3\n",
      "Beginning fold 4\n",
      "Beginning fold 5\n"
     ]
    },
    {
     "name": "stderr",
     "output_type": "stream",
     "text": [
      "[I 2019-03-21 20:03:30,802] Finished a trial resulted in value: 2.0241921222029715. Current best value is 1.8291499926727366 with parameters: {'num_filter_1': 80.0, 'full_connect_units_': 512.0, 'num_filter_0': 32.0, 'learning_rate': 0.0006695637600302005, 'droprate_': 0.7541380351741535, 'num_filter_2': 96.0, 'optimizer': 'adam'}.\n"
     ]
    },
    {
     "name": "stdout",
     "output_type": "stream",
     "text": [
      "Beginning fold 1\n",
      "Beginning fold 2\n",
      "Beginning fold 3\n",
      "Beginning fold 4\n",
      "Beginning fold 5\n"
     ]
    },
    {
     "name": "stderr",
     "output_type": "stream",
     "text": [
      "[I 2019-03-21 20:10:54,530] Finished a trial resulted in value: 1.9617067462963562. Current best value is 1.8291499926727366 with parameters: {'num_filter_1': 80.0, 'full_connect_units_': 512.0, 'num_filter_0': 32.0, 'learning_rate': 0.0006695637600302005, 'droprate_': 0.7541380351741535, 'num_filter_2': 96.0, 'optimizer': 'adam'}.\n"
     ]
    },
    {
     "name": "stdout",
     "output_type": "stream",
     "text": [
      "Beginning fold 1\n",
      "Beginning fold 2\n",
      "Beginning fold 3\n",
      "Beginning fold 4\n",
      "Beginning fold 5\n"
     ]
    },
    {
     "name": "stderr",
     "output_type": "stream",
     "text": [
      "[I 2019-03-21 20:16:17,315] Finished a trial resulted in value: 1.9205610855188218. Current best value is 1.8291499926727366 with parameters: {'num_filter_1': 80.0, 'full_connect_units_': 512.0, 'num_filter_0': 32.0, 'learning_rate': 0.0006695637600302005, 'droprate_': 0.7541380351741535, 'num_filter_2': 96.0, 'optimizer': 'adam'}.\n"
     ]
    },
    {
     "name": "stdout",
     "output_type": "stream",
     "text": [
      "Beginning fold 1\n",
      "Beginning fold 2\n",
      "Beginning fold 3\n",
      "Beginning fold 4\n",
      "Beginning fold 5\n"
     ]
    },
    {
     "name": "stderr",
     "output_type": "stream",
     "text": [
      "[I 2019-03-21 20:34:08,709] Finished a trial resulted in value: 2.061901131593423. Current best value is 1.8291499926727366 with parameters: {'num_filter_1': 80.0, 'full_connect_units_': 512.0, 'num_filter_0': 32.0, 'learning_rate': 0.0006695637600302005, 'droprate_': 0.7541380351741535, 'num_filter_2': 96.0, 'optimizer': 'adam'}.\n"
     ]
    },
    {
     "name": "stdout",
     "output_type": "stream",
     "text": [
      "Beginning fold 1\n",
      "Beginning fold 2\n",
      "Beginning fold 3\n",
      "Beginning fold 4\n",
      "Beginning fold 5\n"
     ]
    },
    {
     "name": "stderr",
     "output_type": "stream",
     "text": [
      "[I 2019-03-21 20:42:26,704] Finished a trial resulted in value: 3.684538606170716. Current best value is 1.8291499926727366 with parameters: {'num_filter_1': 80.0, 'full_connect_units_': 512.0, 'num_filter_0': 32.0, 'learning_rate': 0.0006695637600302005, 'droprate_': 0.7541380351741535, 'num_filter_2': 96.0, 'optimizer': 'adam'}.\n"
     ]
    },
    {
     "name": "stdout",
     "output_type": "stream",
     "text": [
      "Beginning fold 1\n",
      "Beginning fold 2\n",
      "Beginning fold 3\n",
      "Beginning fold 4\n",
      "Beginning fold 5\n"
     ]
    },
    {
     "name": "stderr",
     "output_type": "stream",
     "text": [
      "[I 2019-03-21 21:02:14,304] Finished a trial resulted in value: 2.5099985436822783. Current best value is 1.8291499926727366 with parameters: {'num_filter_1': 80.0, 'full_connect_units_': 512.0, 'num_filter_0': 32.0, 'learning_rate': 0.0006695637600302005, 'droprate_': 0.7541380351741535, 'num_filter_2': 96.0, 'optimizer': 'adam'}.\n"
     ]
    },
    {
     "name": "stdout",
     "output_type": "stream",
     "text": [
      "Beginning fold 1\n",
      "Beginning fold 2\n",
      "Beginning fold 3\n",
      "Beginning fold 4\n",
      "Beginning fold 5\n"
     ]
    },
    {
     "name": "stderr",
     "output_type": "stream",
     "text": [
      "[I 2019-03-21 21:11:52,466] Finished a trial resulted in value: 1.908353278769359. Current best value is 1.8291499926727366 with parameters: {'num_filter_1': 80.0, 'full_connect_units_': 512.0, 'num_filter_0': 32.0, 'learning_rate': 0.0006695637600302005, 'droprate_': 0.7541380351741535, 'num_filter_2': 96.0, 'optimizer': 'adam'}.\n"
     ]
    },
    {
     "name": "stdout",
     "output_type": "stream",
     "text": [
      "Beginning fold 1\n",
      "Beginning fold 2\n",
      "Beginning fold 3\n",
      "Beginning fold 4\n",
      "Beginning fold 5\n"
     ]
    },
    {
     "name": "stderr",
     "output_type": "stream",
     "text": [
      "[I 2019-03-21 21:22:02,645] Finished a trial resulted in value: 2.8645790119704806. Current best value is 1.8291499926727366 with parameters: {'num_filter_1': 80.0, 'full_connect_units_': 512.0, 'num_filter_0': 32.0, 'learning_rate': 0.0006695637600302005, 'droprate_': 0.7541380351741535, 'num_filter_2': 96.0, 'optimizer': 'adam'}.\n"
     ]
    },
    {
     "name": "stdout",
     "output_type": "stream",
     "text": [
      "Beginning fold 1\n",
      "Beginning fold 2\n",
      "Beginning fold 3\n",
      "Beginning fold 4\n",
      "Beginning fold 5\n"
     ]
    },
    {
     "name": "stderr",
     "output_type": "stream",
     "text": [
      "[I 2019-03-21 21:30:52,798] Finished a trial resulted in value: 2.006026688079559. Current best value is 1.8291499926727366 with parameters: {'num_filter_1': 80.0, 'full_connect_units_': 512.0, 'num_filter_0': 32.0, 'learning_rate': 0.0006695637600302005, 'droprate_': 0.7541380351741535, 'num_filter_2': 96.0, 'optimizer': 'adam'}.\n"
     ]
    },
    {
     "name": "stdout",
     "output_type": "stream",
     "text": [
      "Beginning fold 1\n",
      "Beginning fold 2\n",
      "Beginning fold 3\n",
      "Beginning fold 4\n",
      "Beginning fold 5\n"
     ]
    },
    {
     "name": "stderr",
     "output_type": "stream",
     "text": [
      "[I 2019-03-21 21:39:37,888] Finished a trial resulted in value: 2.5297497907918753. Current best value is 1.8291499926727366 with parameters: {'num_filter_1': 80.0, 'full_connect_units_': 512.0, 'num_filter_0': 32.0, 'learning_rate': 0.0006695637600302005, 'droprate_': 0.7541380351741535, 'num_filter_2': 96.0, 'optimizer': 'adam'}.\n"
     ]
    },
    {
     "name": "stdout",
     "output_type": "stream",
     "text": [
      "Beginning fold 1\n",
      "Beginning fold 2\n",
      "Beginning fold 3\n",
      "Beginning fold 4\n",
      "Beginning fold 5\n"
     ]
    },
    {
     "name": "stderr",
     "output_type": "stream",
     "text": [
      "[I 2019-03-21 21:52:52,977] Finished a trial resulted in value: 2.3021105804677497. Current best value is 1.8291499926727366 with parameters: {'num_filter_1': 80.0, 'full_connect_units_': 512.0, 'num_filter_0': 32.0, 'learning_rate': 0.0006695637600302005, 'droprate_': 0.7541380351741535, 'num_filter_2': 96.0, 'optimizer': 'adam'}.\n"
     ]
    },
    {
     "name": "stdout",
     "output_type": "stream",
     "text": [
      "Beginning fold 1\n",
      "Beginning fold 2\n",
      "Beginning fold 3\n",
      "Beginning fold 4\n",
      "Beginning fold 5\n"
     ]
    },
    {
     "name": "stderr",
     "output_type": "stream",
     "text": [
      "[I 2019-03-21 21:57:47,942] Finished a trial resulted in value: 2.0267645243003725. Current best value is 1.8291499926727366 with parameters: {'num_filter_1': 80.0, 'full_connect_units_': 512.0, 'num_filter_0': 32.0, 'learning_rate': 0.0006695637600302005, 'droprate_': 0.7541380351741535, 'num_filter_2': 96.0, 'optimizer': 'adam'}.\n"
     ]
    },
    {
     "name": "stdout",
     "output_type": "stream",
     "text": [
      "Beginning fold 1\n",
      "Beginning fold 2\n",
      "Beginning fold 3\n",
      "Beginning fold 4\n",
      "Beginning fold 5\n"
     ]
    },
    {
     "name": "stderr",
     "output_type": "stream",
     "text": [
      "[I 2019-03-21 22:19:14,129] Finished a trial resulted in value: 2.095989591696898. Current best value is 1.8291499926727366 with parameters: {'num_filter_1': 80.0, 'full_connect_units_': 512.0, 'num_filter_0': 32.0, 'learning_rate': 0.0006695637600302005, 'droprate_': 0.7541380351741535, 'num_filter_2': 96.0, 'optimizer': 'adam'}.\n"
     ]
    },
    {
     "name": "stdout",
     "output_type": "stream",
     "text": [
      "Beginning fold 1\n",
      "Beginning fold 2\n",
      "Beginning fold 3\n",
      "Beginning fold 4\n",
      "Beginning fold 5\n"
     ]
    },
    {
     "name": "stderr",
     "output_type": "stream",
     "text": [
      "[I 2019-03-21 22:26:22,920] Finished a trial resulted in value: 2.687906616786099. Current best value is 1.8291499926727366 with parameters: {'num_filter_1': 80.0, 'full_connect_units_': 512.0, 'num_filter_0': 32.0, 'learning_rate': 0.0006695637600302005, 'droprate_': 0.7541380351741535, 'num_filter_2': 96.0, 'optimizer': 'adam'}.\n"
     ]
    },
    {
     "name": "stdout",
     "output_type": "stream",
     "text": [
      "Beginning fold 1\n",
      "Beginning fold 2\n",
      "Beginning fold 3\n",
      "Beginning fold 4\n",
      "Beginning fold 5\n"
     ]
    },
    {
     "name": "stderr",
     "output_type": "stream",
     "text": [
      "[I 2019-03-21 22:37:18,107] Finished a trial resulted in value: 2.3206590643337544. Current best value is 1.8291499926727366 with parameters: {'num_filter_1': 80.0, 'full_connect_units_': 512.0, 'num_filter_0': 32.0, 'learning_rate': 0.0006695637600302005, 'droprate_': 0.7541380351741535, 'num_filter_2': 96.0, 'optimizer': 'adam'}.\n"
     ]
    },
    {
     "name": "stdout",
     "output_type": "stream",
     "text": [
      "Beginning fold 1\n",
      "Beginning fold 2\n",
      "Beginning fold 3\n",
      "Beginning fold 4\n",
      "Beginning fold 5\n"
     ]
    },
    {
     "name": "stderr",
     "output_type": "stream",
     "text": [
      "[I 2019-03-21 22:44:15,795] Finished a trial resulted in value: 1.9015334667963333. Current best value is 1.8291499926727366 with parameters: {'num_filter_1': 80.0, 'full_connect_units_': 512.0, 'num_filter_0': 32.0, 'learning_rate': 0.0006695637600302005, 'droprate_': 0.7541380351741535, 'num_filter_2': 96.0, 'optimizer': 'adam'}.\n"
     ]
    },
    {
     "name": "stdout",
     "output_type": "stream",
     "text": [
      "Beginning fold 1\n",
      "Beginning fold 2\n",
      "Beginning fold 3\n",
      "Beginning fold 4\n",
      "Beginning fold 5\n"
     ]
    },
    {
     "name": "stderr",
     "output_type": "stream",
     "text": [
      "[I 2019-03-21 22:53:18,305] Finished a trial resulted in value: 2.2236941111640127. Current best value is 1.8291499926727366 with parameters: {'num_filter_1': 80.0, 'full_connect_units_': 512.0, 'num_filter_0': 32.0, 'learning_rate': 0.0006695637600302005, 'droprate_': 0.7541380351741535, 'num_filter_2': 96.0, 'optimizer': 'adam'}.\n"
     ]
    },
    {
     "name": "stdout",
     "output_type": "stream",
     "text": [
      "Beginning fold 1\n",
      "Beginning fold 2\n",
      "Beginning fold 3\n",
      "Beginning fold 4\n",
      "Beginning fold 5\n"
     ]
    },
    {
     "name": "stderr",
     "output_type": "stream",
     "text": [
      "[I 2019-03-21 23:04:14,928] Finished a trial resulted in value: 1.9239272820023168. Current best value is 1.8291499926727366 with parameters: {'num_filter_1': 80.0, 'full_connect_units_': 512.0, 'num_filter_0': 32.0, 'learning_rate': 0.0006695637600302005, 'droprate_': 0.7541380351741535, 'num_filter_2': 96.0, 'optimizer': 'adam'}.\n"
     ]
    },
    {
     "name": "stdout",
     "output_type": "stream",
     "text": [
      "Beginning fold 1\n",
      "Beginning fold 2\n",
      "Beginning fold 3\n",
      "Beginning fold 4\n",
      "Beginning fold 5\n"
     ]
    },
    {
     "name": "stderr",
     "output_type": "stream",
     "text": [
      "[I 2019-03-21 23:19:28,784] Finished a trial resulted in value: 2.7112675054165685. Current best value is 1.8291499926727366 with parameters: {'num_filter_1': 80.0, 'full_connect_units_': 512.0, 'num_filter_0': 32.0, 'learning_rate': 0.0006695637600302005, 'droprate_': 0.7541380351741535, 'num_filter_2': 96.0, 'optimizer': 'adam'}.\n"
     ]
    },
    {
     "name": "stdout",
     "output_type": "stream",
     "text": [
      "Beginning fold 1\n",
      "Beginning fold 2\n",
      "Beginning fold 3\n",
      "Beginning fold 4\n",
      "Beginning fold 5\n"
     ]
    },
    {
     "name": "stderr",
     "output_type": "stream",
     "text": [
      "[I 2019-03-21 23:26:36,612] Finished a trial resulted in value: 2.094058205435259. Current best value is 1.8291499926727366 with parameters: {'num_filter_1': 80.0, 'full_connect_units_': 512.0, 'num_filter_0': 32.0, 'learning_rate': 0.0006695637600302005, 'droprate_': 0.7541380351741535, 'num_filter_2': 96.0, 'optimizer': 'adam'}.\n"
     ]
    },
    {
     "name": "stdout",
     "output_type": "stream",
     "text": [
      "Beginning fold 1\n"
     ]
    },
    {
     "name": "stderr",
     "output_type": "stream",
     "text": [
      "[I 2019-03-21 23:26:45,652] Setting trial status as TrialState.PRUNED. \n"
     ]
    },
    {
     "name": "stdout",
     "output_type": "stream",
     "text": [
      "Beginning fold 1\n",
      "Beginning fold 2\n",
      "Beginning fold 3\n",
      "Beginning fold 4\n",
      "Beginning fold 5\n"
     ]
    },
    {
     "name": "stderr",
     "output_type": "stream",
     "text": [
      "[I 2019-03-21 23:32:18,845] Finished a trial resulted in value: 1.988654069468912. Current best value is 1.8291499926727366 with parameters: {'num_filter_1': 80.0, 'full_connect_units_': 512.0, 'num_filter_0': 32.0, 'learning_rate': 0.0006695637600302005, 'droprate_': 0.7541380351741535, 'num_filter_2': 96.0, 'optimizer': 'adam'}.\n"
     ]
    },
    {
     "name": "stdout",
     "output_type": "stream",
     "text": [
      "Beginning fold 1\n",
      "Beginning fold 2\n",
      "Beginning fold 3\n",
      "Beginning fold 4\n",
      "Beginning fold 5\n"
     ]
    },
    {
     "name": "stderr",
     "output_type": "stream",
     "text": [
      "[I 2019-03-21 23:46:38,707] Finished a trial resulted in value: 2.4440049920156177. Current best value is 1.8291499926727366 with parameters: {'num_filter_1': 80.0, 'full_connect_units_': 512.0, 'num_filter_0': 32.0, 'learning_rate': 0.0006695637600302005, 'droprate_': 0.7541380351741535, 'num_filter_2': 96.0, 'optimizer': 'adam'}.\n"
     ]
    },
    {
     "name": "stdout",
     "output_type": "stream",
     "text": [
      "Beginning fold 1\n",
      "Beginning fold 2\n",
      "Beginning fold 3\n",
      "Beginning fold 4\n",
      "Beginning fold 5\n"
     ]
    },
    {
     "name": "stderr",
     "output_type": "stream",
     "text": [
      "[I 2019-03-21 23:55:31,949] Finished a trial resulted in value: 1.9132962299644594. Current best value is 1.8291499926727366 with parameters: {'num_filter_1': 80.0, 'full_connect_units_': 512.0, 'num_filter_0': 32.0, 'learning_rate': 0.0006695637600302005, 'droprate_': 0.7541380351741535, 'num_filter_2': 96.0, 'optimizer': 'adam'}.\n"
     ]
    },
    {
     "name": "stdout",
     "output_type": "stream",
     "text": [
      "Beginning fold 1\n",
      "Beginning fold 2\n",
      "Beginning fold 3\n",
      "Beginning fold 4\n",
      "Beginning fold 5\n"
     ]
    },
    {
     "name": "stderr",
     "output_type": "stream",
     "text": [
      "[I 2019-03-22 00:11:32,844] Finished a trial resulted in value: 2.678924108922662. Current best value is 1.8291499926727366 with parameters: {'num_filter_1': 80.0, 'full_connect_units_': 512.0, 'num_filter_0': 32.0, 'learning_rate': 0.0006695637600302005, 'droprate_': 0.7541380351741535, 'num_filter_2': 96.0, 'optimizer': 'adam'}.\n"
     ]
    },
    {
     "name": "stdout",
     "output_type": "stream",
     "text": [
      "Beginning fold 1\n",
      "Beginning fold 2\n",
      "Beginning fold 3\n",
      "Beginning fold 4\n",
      "Beginning fold 5\n"
     ]
    },
    {
     "name": "stderr",
     "output_type": "stream",
     "text": [
      "[I 2019-03-22 00:22:51,747] Finished a trial resulted in value: 1.9753135119482945. Current best value is 1.8291499926727366 with parameters: {'num_filter_1': 80.0, 'full_connect_units_': 512.0, 'num_filter_0': 32.0, 'learning_rate': 0.0006695637600302005, 'droprate_': 0.7541380351741535, 'num_filter_2': 96.0, 'optimizer': 'adam'}.\n"
     ]
    },
    {
     "name": "stdout",
     "output_type": "stream",
     "text": [
      "Beginning fold 1\n",
      "Beginning fold 2\n",
      "Beginning fold 3\n",
      "Beginning fold 4\n",
      "Beginning fold 5\n"
     ]
    },
    {
     "name": "stderr",
     "output_type": "stream",
     "text": [
      "[I 2019-03-22 00:32:31,734] Finished a trial resulted in value: 1.9365469605014978. Current best value is 1.8291499926727366 with parameters: {'num_filter_1': 80.0, 'full_connect_units_': 512.0, 'num_filter_0': 32.0, 'learning_rate': 0.0006695637600302005, 'droprate_': 0.7541380351741535, 'num_filter_2': 96.0, 'optimizer': 'adam'}.\n"
     ]
    },
    {
     "name": "stdout",
     "output_type": "stream",
     "text": [
      "Beginning fold 1\n",
      "Beginning fold 2\n",
      "Beginning fold 3\n",
      "Beginning fold 4\n",
      "Beginning fold 5\n"
     ]
    },
    {
     "name": "stderr",
     "output_type": "stream",
     "text": [
      "[I 2019-03-22 00:48:22,876] Finished a trial resulted in value: 1.9866361034967779. Current best value is 1.8291499926727366 with parameters: {'num_filter_1': 80.0, 'full_connect_units_': 512.0, 'num_filter_0': 32.0, 'learning_rate': 0.0006695637600302005, 'droprate_': 0.7541380351741535, 'num_filter_2': 96.0, 'optimizer': 'adam'}.\n"
     ]
    },
    {
     "name": "stdout",
     "output_type": "stream",
     "text": [
      "Beginning fold 1\n",
      "Beginning fold 2\n",
      "Beginning fold 3\n",
      "Beginning fold 4\n",
      "Beginning fold 5\n"
     ]
    },
    {
     "name": "stderr",
     "output_type": "stream",
     "text": [
      "[I 2019-03-22 01:04:35,877] Finished a trial resulted in value: 2.5894611072616778. Current best value is 1.8291499926727366 with parameters: {'num_filter_1': 80.0, 'full_connect_units_': 512.0, 'num_filter_0': 32.0, 'learning_rate': 0.0006695637600302005, 'droprate_': 0.7541380351741535, 'num_filter_2': 96.0, 'optimizer': 'adam'}.\n"
     ]
    },
    {
     "name": "stdout",
     "output_type": "stream",
     "text": [
      "Beginning fold 1\n",
      "Beginning fold 2\n",
      "Beginning fold 3\n",
      "Beginning fold 4\n",
      "Beginning fold 5\n"
     ]
    },
    {
     "name": "stderr",
     "output_type": "stream",
     "text": [
      "[I 2019-03-22 01:11:49,973] Finished a trial resulted in value: 1.947723295832873. Current best value is 1.8291499926727366 with parameters: {'num_filter_1': 80.0, 'full_connect_units_': 512.0, 'num_filter_0': 32.0, 'learning_rate': 0.0006695637600302005, 'droprate_': 0.7541380351741535, 'num_filter_2': 96.0, 'optimizer': 'adam'}.\n"
     ]
    },
    {
     "name": "stdout",
     "output_type": "stream",
     "text": [
      "Beginning fold 1\n"
     ]
    },
    {
     "name": "stderr",
     "output_type": "stream",
     "text": [
      "[I 2019-03-22 01:11:56,499] Setting trial status as TrialState.PRUNED. \n"
     ]
    },
    {
     "name": "stdout",
     "output_type": "stream",
     "text": [
      "Beginning fold 1\n",
      "Beginning fold 2\n",
      "Beginning fold 3\n",
      "Beginning fold 4\n",
      "Beginning fold 5\n"
     ]
    },
    {
     "name": "stderr",
     "output_type": "stream",
     "text": [
      "[I 2019-03-22 01:29:30,676] Finished a trial resulted in value: 1.911871276191931. Current best value is 1.8291499926727366 with parameters: {'num_filter_1': 80.0, 'full_connect_units_': 512.0, 'num_filter_0': 32.0, 'learning_rate': 0.0006695637600302005, 'droprate_': 0.7541380351741535, 'num_filter_2': 96.0, 'optimizer': 'adam'}.\n"
     ]
    },
    {
     "name": "stdout",
     "output_type": "stream",
     "text": [
      "Beginning fold 1\n",
      "Beginning fold 2\n",
      "Beginning fold 3\n",
      "Beginning fold 4\n",
      "Beginning fold 5\n"
     ]
    },
    {
     "name": "stderr",
     "output_type": "stream",
     "text": [
      "[I 2019-03-22 01:35:09,827] Finished a trial resulted in value: 1.9117549541242862. Current best value is 1.8291499926727366 with parameters: {'num_filter_1': 80.0, 'full_connect_units_': 512.0, 'num_filter_0': 32.0, 'learning_rate': 0.0006695637600302005, 'droprate_': 0.7541380351741535, 'num_filter_2': 96.0, 'optimizer': 'adam'}.\n"
     ]
    },
    {
     "name": "stdout",
     "output_type": "stream",
     "text": [
      "Beginning fold 1\n",
      "Beginning fold 2\n",
      "Beginning fold 3\n",
      "Beginning fold 4\n",
      "Beginning fold 5\n"
     ]
    },
    {
     "name": "stderr",
     "output_type": "stream",
     "text": [
      "[I 2019-03-22 01:44:19,130] Finished a trial resulted in value: 1.9016683725819903. Current best value is 1.8291499926727366 with parameters: {'num_filter_1': 80.0, 'full_connect_units_': 512.0, 'num_filter_0': 32.0, 'learning_rate': 0.0006695637600302005, 'droprate_': 0.7541380351741535, 'num_filter_2': 96.0, 'optimizer': 'adam'}.\n"
     ]
    },
    {
     "name": "stdout",
     "output_type": "stream",
     "text": [
      "Beginning fold 1\n",
      "Beginning fold 2\n",
      "Beginning fold 3\n",
      "Beginning fold 4\n",
      "Beginning fold 5\n"
     ]
    },
    {
     "name": "stderr",
     "output_type": "stream",
     "text": [
      "[I 2019-03-22 01:53:37,270] Finished a trial resulted in value: 1.882429697886281. Current best value is 1.8291499926727366 with parameters: {'num_filter_1': 80.0, 'full_connect_units_': 512.0, 'num_filter_0': 32.0, 'learning_rate': 0.0006695637600302005, 'droprate_': 0.7541380351741535, 'num_filter_2': 96.0, 'optimizer': 'adam'}.\n"
     ]
    },
    {
     "name": "stdout",
     "output_type": "stream",
     "text": [
      "Beginning fold 1\n",
      "Beginning fold 2\n",
      "Beginning fold 3\n",
      "Beginning fold 4\n",
      "Beginning fold 5\n"
     ]
    },
    {
     "name": "stderr",
     "output_type": "stream",
     "text": [
      "[I 2019-03-22 02:01:32,201] Finished a trial resulted in value: 2.4724043382098797. Current best value is 1.8291499926727366 with parameters: {'num_filter_1': 80.0, 'full_connect_units_': 512.0, 'num_filter_0': 32.0, 'learning_rate': 0.0006695637600302005, 'droprate_': 0.7541380351741535, 'num_filter_2': 96.0, 'optimizer': 'adam'}.\n"
     ]
    },
    {
     "name": "stdout",
     "output_type": "stream",
     "text": [
      "Beginning fold 1\n",
      "Beginning fold 2\n",
      "Beginning fold 3\n",
      "Beginning fold 4\n",
      "Beginning fold 5\n"
     ]
    },
    {
     "name": "stderr",
     "output_type": "stream",
     "text": [
      "[I 2019-03-22 02:15:44,824] Finished a trial resulted in value: 2.071983173429492. Current best value is 1.8291499926727366 with parameters: {'num_filter_1': 80.0, 'full_connect_units_': 512.0, 'num_filter_0': 32.0, 'learning_rate': 0.0006695637600302005, 'droprate_': 0.7541380351741535, 'num_filter_2': 96.0, 'optimizer': 'adam'}.\n"
     ]
    },
    {
     "name": "stdout",
     "output_type": "stream",
     "text": [
      "Beginning fold 1\n",
      "Beginning fold 2\n",
      "Beginning fold 3\n",
      "Beginning fold 4\n",
      "Beginning fold 5\n"
     ]
    },
    {
     "name": "stderr",
     "output_type": "stream",
     "text": [
      "[I 2019-03-22 02:23:01,468] Finished a trial resulted in value: 2.3461106735134494. Current best value is 1.8291499926727366 with parameters: {'num_filter_1': 80.0, 'full_connect_units_': 512.0, 'num_filter_0': 32.0, 'learning_rate': 0.0006695637600302005, 'droprate_': 0.7541380351741535, 'num_filter_2': 96.0, 'optimizer': 'adam'}.\n"
     ]
    }
   ],
   "source": [
    "class OptunaCallback(Callback):\n",
    "    def __init__(self, trial):\n",
    "        self.trial = trial\n",
    "\n",
    "    def on_epoch_end(self, epoch, logs):\n",
    "        current_val_error = logs['val_matthews_correlation']\n",
    "        self.trial.report(current_val_error, step=epoch)\n",
    "        # 打ち切り判定\n",
    "        if self.trial.should_prune(epoch):\n",
    "            raise optuna.structs.TrialPruned()\n",
    "\n",
    "def objective(trial):\n",
    "    K.clear_session()\n",
    "    num_filters=[int(trial.suggest_discrete_uniform(\"num_filter_\"+str(i),16,512,16))for i in range(3)]\n",
    "    full_connect_units=int(trial.suggest_discrete_uniform(\"full_connect_units_\",16,512,16))\n",
    "    drop_rate = trial.suggest_uniform(\"droprate_\",0,0.8)\n",
    "    optimizer=trial.suggest_categorical(\"optimizer\",[\"adam\"])\n",
    "    learning_rate=trial.suggest_loguniform(\"learning_rate\",1e-5,1e-1)\n",
    "    \n",
    "    splits = list(StratifiedKFold(n_splits=N_SPLITS, shuffle=True, random_state=2019).split(X, y))\n",
    "    preds_val = []\n",
    "    y_val = []\n",
    "    # Then, iteract with each fold\n",
    "    # If you dont know, enumerate(['a', 'b', 'c']) returns [(0, 'a'), (1, 'b'), (2, 'c')]\n",
    "    losses=0\n",
    "    for idx, (train_idx, val_idx) in enumerate(splits):\n",
    "        K.clear_session() # I dont know what it do, but I imagine that it \"clear session\" :)\n",
    "        print(\"Beginning fold {}\".format(idx+1))\n",
    "        # use the indexes to extract the folds in the train and validation data\n",
    "        train_X, train_y, val_X, val_y = X[train_idx], y[train_idx], X[val_idx], y[val_idx]\n",
    "        # instantiate the model for this fold\n",
    "        model = model_lstm(train_X.shape,num_filters,full_connect_units,drop_rate)\n",
    "        \n",
    "        # Pay attention in the addition of matthews_correlation metric in the compilation, it is a success factor key\n",
    "        model.compile(loss='binary_crossentropy', optimizer=optimizer, metrics=[matthews_correlation])\n",
    "        # model.summary()\n",
    "        # This checkpoint helps to avoid overfitting. It just save the weights of the model if it delivered an\n",
    "        # validation matthews_correlation greater than the last one.\n",
    "        ckpt = ModelCheckpoint('weights_{}.h5'.format(idx), save_best_only=True, save_weights_only=True, verbose=0, monitor='val_matthews_correlation', mode='max')\n",
    "        early_stop=OptunaCallback(trial)\n",
    "        # Train, train, train\n",
    "        model.fit(train_X, train_y, batch_size=128, epochs=50, validation_data=[val_X, val_y], callbacks=[ckpt,early_stop],verbose=0)\n",
    "        model.load_weights('weights_{}.h5'.format(idx))\n",
    "        # Add the predictions of the validation to the list preds_val\n",
    "        res=model.evaluate(val_X,val_y,verbose=0)\n",
    "        # print(res)\n",
    "        losses+=1.-res[1]\n",
    "        # and the val true y\n",
    "        \n",
    "    return losses\n",
    "\n",
    "study=optuna.create_study()\n",
    "study.optimize(objective,n_trials=150)\n"
   ]
  },
  {
   "cell_type": "code",
   "execution_count": 14,
   "metadata": {
    "scrolled": true
   },
   "outputs": [
    {
     "data": {
      "text/plain": [
       "{'droprate_': 0.7541380351741535,\n",
       " 'full_connect_units_': 512.0,\n",
       " 'learning_rate': 0.0006695637600302005,\n",
       " 'num_filter_0': 32.0,\n",
       " 'num_filter_1': 80.0,\n",
       " 'num_filter_2': 96.0,\n",
       " 'optimizer': 'adam'}"
      ]
     },
     "execution_count": 14,
     "metadata": {},
     "output_type": "execute_result"
    }
   ],
   "source": [
    "study.best_params"
   ]
  },
  {
   "cell_type": "code",
   "execution_count": 15,
   "metadata": {
    "scrolled": true
   },
   "outputs": [
    {
     "name": "stdout",
     "output_type": "stream",
     "text": [
      "Beginning fold 1\n"
     ]
    },
    {
     "ename": "TypeError",
     "evalue": "unorderable types: list() > float()",
     "output_type": "error",
     "traceback": [
      "\u001b[0;31m---------------------------------------------------------------------------\u001b[0m",
      "\u001b[0;31mTypeError\u001b[0m                                 Traceback (most recent call last)",
      "\u001b[0;32m<ipython-input-15-d868b7e552b3>\u001b[0m in \u001b[0;36m<module>\u001b[0;34m()\u001b[0m\n\u001b[1;32m     12\u001b[0m     \u001b[0;31m# instantiate the model for this fold\u001b[0m\u001b[0;34m\u001b[0m\u001b[0;34m\u001b[0m\u001b[0m\n\u001b[1;32m     13\u001b[0m     \u001b[0mnum_filters\u001b[0m\u001b[0;34m=\u001b[0m\u001b[0;34m[\u001b[0m\u001b[0;36m64\u001b[0m\u001b[0;34m,\u001b[0m\u001b[0;36m320\u001b[0m\u001b[0;34m,\u001b[0m\u001b[0;36m384\u001b[0m\u001b[0;34m]\u001b[0m\u001b[0;34m\u001b[0m\u001b[0m\n\u001b[0;32m---> 14\u001b[0;31m     \u001b[0mmodel\u001b[0m \u001b[0;34m=\u001b[0m \u001b[0mmodel_lstm\u001b[0m\u001b[0;34m(\u001b[0m\u001b[0mtrain_X\u001b[0m\u001b[0;34m.\u001b[0m\u001b[0mshape\u001b[0m\u001b[0;34m,\u001b[0m\u001b[0mnum_filters\u001b[0m\u001b[0;34m,\u001b[0m\u001b[0;34m[\u001b[0m\u001b[0;36m480\u001b[0m\u001b[0;34m,\u001b[0m\u001b[0;36m448\u001b[0m\u001b[0;34m]\u001b[0m\u001b[0;34m,\u001b[0m\u001b[0;34m[\u001b[0m\u001b[0;36m0.2868113216962268\u001b[0m\u001b[0;34m,\u001b[0m\u001b[0;36m0.5453362486265273\u001b[0m\u001b[0;34m]\u001b[0m\u001b[0;34m)\u001b[0m\u001b[0;34m\u001b[0m\u001b[0m\n\u001b[0m\u001b[1;32m     15\u001b[0m     \u001b[0mmodel\u001b[0m\u001b[0;34m.\u001b[0m\u001b[0mcompile\u001b[0m\u001b[0;34m(\u001b[0m\u001b[0mloss\u001b[0m\u001b[0;34m=\u001b[0m\u001b[0;34m'binary_crossentropy'\u001b[0m\u001b[0;34m,\u001b[0m \u001b[0moptimizer\u001b[0m\u001b[0;34m=\u001b[0m\u001b[0moptimizers\u001b[0m\u001b[0;34m.\u001b[0m\u001b[0mAdam\u001b[0m\u001b[0;34m(\u001b[0m\u001b[0mlr\u001b[0m\u001b[0;34m=\u001b[0m\u001b[0;36m0.0010108826997701952\u001b[0m\u001b[0;34m)\u001b[0m\u001b[0;34m,\u001b[0m \u001b[0mmetrics\u001b[0m\u001b[0;34m=\u001b[0m\u001b[0;34m[\u001b[0m\u001b[0mmatthews_correlation\u001b[0m\u001b[0;34m]\u001b[0m\u001b[0;34m)\u001b[0m\u001b[0;34m\u001b[0m\u001b[0m\n\u001b[1;32m     16\u001b[0m \u001b[0;34m\u001b[0m\u001b[0m\n",
      "\u001b[0;32m<ipython-input-12-38b5c53ac82d>\u001b[0m in \u001b[0;36mmodel_lstm\u001b[0;34m(input_shape, num_filters, full_connect_units, drop_rate)\u001b[0m\n\u001b[1;32m     18\u001b[0m     \u001b[0mx\u001b[0m \u001b[0;34m=\u001b[0m \u001b[0mAttention\u001b[0m\u001b[0;34m(\u001b[0m\u001b[0minput_shape\u001b[0m\u001b[0;34m[\u001b[0m\u001b[0;36m1\u001b[0m\u001b[0;34m]\u001b[0m\u001b[0;34m)\u001b[0m\u001b[0;34m(\u001b[0m\u001b[0mx\u001b[0m\u001b[0;34m)\u001b[0m\u001b[0;34m\u001b[0m\u001b[0m\n\u001b[1;32m     19\u001b[0m     \u001b[0;31m# A intermediate full connected (Dense) can help to deal with nonlinears outputs\u001b[0m\u001b[0;34m\u001b[0m\u001b[0;34m\u001b[0m\u001b[0m\n\u001b[0;32m---> 20\u001b[0;31m     \u001b[0mx\u001b[0m \u001b[0;34m=\u001b[0m \u001b[0mDropout\u001b[0m\u001b[0;34m(\u001b[0m\u001b[0mdrop_rate\u001b[0m\u001b[0;34m)\u001b[0m\u001b[0;34m(\u001b[0m\u001b[0mx\u001b[0m\u001b[0;34m)\u001b[0m\u001b[0;34m\u001b[0m\u001b[0m\n\u001b[0m\u001b[1;32m     21\u001b[0m     \u001b[0mx\u001b[0m \u001b[0;34m=\u001b[0m \u001b[0mDense\u001b[0m\u001b[0;34m(\u001b[0m\u001b[0mfull_connect_units\u001b[0m\u001b[0;34m,\u001b[0m \u001b[0mactivation\u001b[0m\u001b[0;34m=\u001b[0m\u001b[0;34m\"relu\"\u001b[0m\u001b[0;34m)\u001b[0m\u001b[0;34m(\u001b[0m\u001b[0mx\u001b[0m\u001b[0;34m)\u001b[0m\u001b[0;34m\u001b[0m\u001b[0m\n\u001b[1;32m     22\u001b[0m     \u001b[0;31m# A binnary classification as this must finish with shape (1,)\u001b[0m\u001b[0;34m\u001b[0m\u001b[0;34m\u001b[0m\u001b[0m\n",
      "\u001b[0;32m~/anaconda3/envs/Tensorflow/lib/python3.5/site-packages/keras/legacy/interfaces.py\u001b[0m in \u001b[0;36mwrapper\u001b[0;34m(*args, **kwargs)\u001b[0m\n\u001b[1;32m     89\u001b[0m                 warnings.warn('Update your `' + object_name +\n\u001b[1;32m     90\u001b[0m                               '` call to the Keras 2 API: ' + signature, stacklevel=2)\n\u001b[0;32m---> 91\u001b[0;31m             \u001b[0;32mreturn\u001b[0m \u001b[0mfunc\u001b[0m\u001b[0;34m(\u001b[0m\u001b[0;34m*\u001b[0m\u001b[0margs\u001b[0m\u001b[0;34m,\u001b[0m \u001b[0;34m**\u001b[0m\u001b[0mkwargs\u001b[0m\u001b[0;34m)\u001b[0m\u001b[0;34m\u001b[0m\u001b[0m\n\u001b[0m\u001b[1;32m     92\u001b[0m         \u001b[0mwrapper\u001b[0m\u001b[0;34m.\u001b[0m\u001b[0m_original_function\u001b[0m \u001b[0;34m=\u001b[0m \u001b[0mfunc\u001b[0m\u001b[0;34m\u001b[0m\u001b[0m\n\u001b[1;32m     93\u001b[0m         \u001b[0;32mreturn\u001b[0m \u001b[0mwrapper\u001b[0m\u001b[0;34m\u001b[0m\u001b[0m\n",
      "\u001b[0;32m~/anaconda3/envs/Tensorflow/lib/python3.5/site-packages/keras/layers/core.py\u001b[0m in \u001b[0;36m__init__\u001b[0;34m(self, rate, noise_shape, seed, **kwargs)\u001b[0m\n\u001b[1;32m    101\u001b[0m     \u001b[0;32mdef\u001b[0m \u001b[0m__init__\u001b[0m\u001b[0;34m(\u001b[0m\u001b[0mself\u001b[0m\u001b[0;34m,\u001b[0m \u001b[0mrate\u001b[0m\u001b[0;34m,\u001b[0m \u001b[0mnoise_shape\u001b[0m\u001b[0;34m=\u001b[0m\u001b[0;32mNone\u001b[0m\u001b[0;34m,\u001b[0m \u001b[0mseed\u001b[0m\u001b[0;34m=\u001b[0m\u001b[0;32mNone\u001b[0m\u001b[0;34m,\u001b[0m \u001b[0;34m**\u001b[0m\u001b[0mkwargs\u001b[0m\u001b[0;34m)\u001b[0m\u001b[0;34m:\u001b[0m\u001b[0;34m\u001b[0m\u001b[0m\n\u001b[1;32m    102\u001b[0m         \u001b[0msuper\u001b[0m\u001b[0;34m(\u001b[0m\u001b[0mDropout\u001b[0m\u001b[0;34m,\u001b[0m \u001b[0mself\u001b[0m\u001b[0;34m)\u001b[0m\u001b[0;34m.\u001b[0m\u001b[0m__init__\u001b[0m\u001b[0;34m(\u001b[0m\u001b[0;34m**\u001b[0m\u001b[0mkwargs\u001b[0m\u001b[0;34m)\u001b[0m\u001b[0;34m\u001b[0m\u001b[0m\n\u001b[0;32m--> 103\u001b[0;31m         \u001b[0mself\u001b[0m\u001b[0;34m.\u001b[0m\u001b[0mrate\u001b[0m \u001b[0;34m=\u001b[0m \u001b[0mmin\u001b[0m\u001b[0;34m(\u001b[0m\u001b[0;36m1.\u001b[0m\u001b[0;34m,\u001b[0m \u001b[0mmax\u001b[0m\u001b[0;34m(\u001b[0m\u001b[0;36m0.\u001b[0m\u001b[0;34m,\u001b[0m \u001b[0mrate\u001b[0m\u001b[0;34m)\u001b[0m\u001b[0;34m)\u001b[0m\u001b[0;34m\u001b[0m\u001b[0m\n\u001b[0m\u001b[1;32m    104\u001b[0m         \u001b[0mself\u001b[0m\u001b[0;34m.\u001b[0m\u001b[0mnoise_shape\u001b[0m \u001b[0;34m=\u001b[0m \u001b[0mnoise_shape\u001b[0m\u001b[0;34m\u001b[0m\u001b[0m\n\u001b[1;32m    105\u001b[0m         \u001b[0mself\u001b[0m\u001b[0;34m.\u001b[0m\u001b[0mseed\u001b[0m \u001b[0;34m=\u001b[0m \u001b[0mseed\u001b[0m\u001b[0;34m\u001b[0m\u001b[0m\n",
      "\u001b[0;31mTypeError\u001b[0m: unorderable types: list() > float()"
     ]
    }
   ],
   "source": [
    "# First, create a set of indexes of the 5 folds\n",
    "splits = list(StratifiedKFold(n_splits=N_SPLITS, shuffle=True, random_state=2019).split(X, y))\n",
    "preds_val = []\n",
    "y_val = []\n",
    "# Then, iteract with each fold\n",
    "# If you dont know, enumerate(['a', 'b', 'c']) returns [(0, 'a'), (1, 'b'), (2, 'c')]\n",
    "for idx, (train_idx, val_idx) in enumerate(splits):\n",
    "    K.clear_session() # I dont know what it do, but I imagine that it \"clear session\" :)\n",
    "    print(\"Beginning fold {}\".format(idx+1))\n",
    "    # use the indexes to extract the folds in the train and validation data\n",
    "    train_X, train_y, val_X, val_y = X[train_idx], y[train_idx], X[val_idx], y[val_idx]\n",
    "    # instantiate the model for this fold\n",
    "    num_filters=[64,320,384]\n",
    "    model = model_lstm(train_X.shape,num_filters,[480,448],[0.2868113216962268,0.5453362486265273])\n",
    "    model.compile(loss='binary_crossentropy', optimizer=optimizers.Adam(lr=0.0010108826997701952), metrics=[matthews_correlation])\n",
    "\n",
    "    # This checkpoint helps to avoid overfitting. It just save the weights of the model if it delivered an\n",
    "    # validation matthews_correlation greater than the last one.\n",
    "    ckpt = ModelCheckpoint('weights_{}.h5'.format(idx), save_best_only=True, save_weights_only=True, verbose=1, monitor='val_matthews_correlation', mode='max')\n",
    "    # Train, train, train\n",
    "    model.fit(train_X, train_y, batch_size=128, epochs=50, validation_data=[val_X, val_y], callbacks=[ckpt])\n",
    "    # loads the best weights saved by the checkpoint\n",
    "    \n",
    "    \n",
    "    model.load_weights('weights_{}.h5'.format(idx))\n",
    "    \n",
    "    \n",
    "    # Add the predictions of the validation to the list preds_val\n",
    "    preds_val.append(model.predict(val_X, batch_size=512))\n",
    "    # and the val true y\n",
    "    y_val.append(val_y)\n",
    "\n",
    "# concatenates all and prints the shape    \n",
    "model.summary()\n",
    "preds_val = np.concatenate(preds_val)[...,0]\n",
    "y_val = np.concatenate(y_val)\n",
    "preds_val.shape, y_val.shape"
   ]
  },
  {
   "cell_type": "code",
   "execution_count": null,
   "metadata": {},
   "outputs": [],
   "source": [
    "import tensorflow as tf\n",
    "# The output of this kernel must be binary (0 or 1), but the output of the NN Model is float (0 to 1).\n",
    "# So, find the best threshold to convert float to binary is crucial to the result\n",
    "# this piece of code is a function that evaluates all the possible thresholds from 0 to 1 by 0.01\n",
    "def threshold_search(y_true, y_proba):\n",
    "    best_threshold = 0\n",
    "    best_score = 0\n",
    "    for threshold in tqdm([i * 0.01 for i in range(100)]):\n",
    "        score = K.eval(matthews_correlation(K.variable(y_true.astype(np.float64)), K.variable((y_proba > threshold).astype(np.float64))))\n",
    "        if score > best_score:\n",
    "            best_threshold = threshold\n",
    "            best_score = score\n",
    "    search_result = {'threshold': best_threshold, 'matthews_correlation': best_score}\n",
    "    return search_result"
   ]
  },
  {
   "cell_type": "code",
   "execution_count": null,
   "metadata": {},
   "outputs": [],
   "source": [
    "best_threshold = threshold_search(y_val, preds_val)['threshold']"
   ]
  },
  {
   "cell_type": "code",
   "execution_count": null,
   "metadata": {
    "scrolled": true
   },
   "outputs": [],
   "source": [
    "%%time\n",
    "# Now load the test data\n",
    "# This first part is the meta data, not the main data, the measurements\n",
    "meta_test = pd.read_csv('../input/metadata_test.csv')"
   ]
  },
  {
   "cell_type": "code",
   "execution_count": null,
   "metadata": {},
   "outputs": [],
   "source": [
    "meta_test = meta_test.set_index(['signal_id'])\n",
    "meta_test.head()"
   ]
  },
  {
   "cell_type": "code",
   "execution_count": null,
   "metadata": {},
   "outputs": [],
   "source": [
    "%%time\n",
    "# First we daclarete a series of parameters to initiate the loading of the main data\n",
    "# it is too large, it is impossible to load in one time, so we are doing it in dividing in 10 parts\n",
    "first_sig = meta_test.index[0]\n",
    "n_parts = 10\n",
    "max_line = len(meta_test)\n",
    "part_size = int(max_line / n_parts)\n",
    "last_part = max_line % n_parts\n",
    "print(first_sig, n_parts, max_line, part_size, last_part, n_parts * part_size + last_part)\n",
    "# Here we create a list of lists with start index and end index for each of the 10 parts and one for the last partial part\n",
    "start_end = [[x, x+part_size] for x in range(first_sig, max_line + first_sig, part_size)]\n",
    "start_end = start_end[:-1] + [[start_end[-1][0], start_end[-1][0] + last_part]]\n",
    "print(start_end)\n",
    "X_test = []\n",
    "# now, very like we did above with the train data, we convert the test data part by part\n",
    "# transforming the 3 phases 800000 measurement in matrix (160,57)\n",
    "for start, end in start_end:\n",
    "    subset_test = pq.read_pandas('../input/test.parquet', columns=[str(i) for i in range(start, end)]).to_pandas()\n",
    "    for i in tqdm(subset_test.columns):\n",
    "        id_measurement, phase = meta_test.loc[int(i)]\n",
    "        subset_test_col = subset_test[i]\n",
    "        subset_trans = transform_ts(subset_test_col)\n",
    "        X_test.append([i, id_measurement, phase, subset_trans])"
   ]
  },
  {
   "cell_type": "code",
   "execution_count": null,
   "metadata": {},
   "outputs": [],
   "source": [
    "X_test_input = np.asarray([np.concatenate([X_test[i][3],X_test[i+1][3], X_test[i+2][3]], axis=1) for i in range(0,len(X_test), 3)])\n",
    "np.save(\"X_test.npy\",X_test_input)\n",
    "X_test_input.shape"
   ]
  },
  {
   "cell_type": "code",
   "execution_count": null,
   "metadata": {},
   "outputs": [],
   "source": [
    "submission = pd.read_csv('../input/sample_submission.csv')\n",
    "print(len(submission))\n",
    "submission.head()"
   ]
  },
  {
   "cell_type": "code",
   "execution_count": null,
   "metadata": {},
   "outputs": [],
   "source": [
    "preds_test = []\n",
    "for i in range(N_SPLITS):\n",
    "    model.load_weights('./weights_{}.h5'.format(i))\n",
    "    pred = model.predict(X_test_input, verbose=1)\n",
    "    pred_3 = []\n",
    "    for pred_scalar in pred:\n",
    "        for i in range(3):\n",
    "            pred_3.append(pred_scalar)\n",
    "    preds_test.append(pred_3)"
   ]
  },
  {
   "cell_type": "code",
   "execution_count": null,
   "metadata": {},
   "outputs": [],
   "source": [
    "best_threshold"
   ]
  },
  {
   "cell_type": "code",
   "execution_count": null,
   "metadata": {},
   "outputs": [],
   "source": [
    "best_threshold=0.5\n",
    "preds_test = (np.squeeze(np.mean(preds_test, axis=0)) > best_threshold).astype(np.int)\n",
    "preds_test.shape"
   ]
  },
  {
   "cell_type": "code",
   "execution_count": null,
   "metadata": {},
   "outputs": [],
   "source": [
    "submission['target'] = preds_test\n",
    "submission.to_csv('submission.csv', index=False)\n",
    "submission.head()"
   ]
  },
  {
   "cell_type": "code",
   "execution_count": null,
   "metadata": {},
   "outputs": [],
   "source": []
  },
  {
   "cell_type": "code",
   "execution_count": null,
   "metadata": {},
   "outputs": [],
   "source": []
  }
 ],
 "metadata": {
  "kernelspec": {
   "display_name": "Python 3",
   "language": "python",
   "name": "python3"
  },
  "language_info": {
   "codemirror_mode": {
    "name": "ipython",
    "version": 3
   },
   "file_extension": ".py",
   "mimetype": "text/x-python",
   "name": "python",
   "nbconvert_exporter": "python",
   "pygments_lexer": "ipython3",
   "version": "3.5.5"
  }
 },
 "nbformat": 4,
 "nbformat_minor": 2
}
